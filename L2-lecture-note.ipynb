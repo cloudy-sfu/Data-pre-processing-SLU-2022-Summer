{
 "cells": [
  {
   "cell_type": "markdown",
   "id": "8268b33f-5a7d-4fc4-9661-9d1a2f431bee",
   "metadata": {},
   "source": [
    "# Lecture 2: data pre-processing\n",
    "\n",
    "*cloudy-sfu*\n",
    "\n",
    "**Outlines**:\n",
    "\n",
    "- Data profiling\n",
    "- Type of variables\n",
    "- Fill missing values\n",
    "- Encoding\n",
    "- Zipping\n",
    "- Correlation\n",
    "- Cross validation"
   ]
  },
  {
   "cell_type": "code",
   "execution_count": 2,
   "id": "8b502646-5589-4d73-a42d-67e7421a8597",
   "metadata": {},
   "outputs": [],
   "source": [
    "import pandas as pd\n",
    "import numpy as np"
   ]
  },
  {
   "cell_type": "markdown",
   "id": "1cb9e6b8-2806-41f5-9036-c8907077d0c3",
   "metadata": {},
   "source": [
    "# Background\n",
    "\n",
    "They investigate the poverty of households in two differen cities in late 2018. \n",
    "\n",
    "Each household is a sample, and the answer to questions on the paper has been recorded in our database. The meaning of the variables are shown as follow.\n",
    "\n",
    "[Go to type of varibables](#Type-of-variables)\n",
    "\n",
    "| Name          | Data Type | Description       |\n",
    "| ------------- | --------- | -------------------------------------------------------------------------------------------------------------------------------------------------------------------------------------------------------------------------------------------------------------------- |\n",
    "| community     | Nominal   | The place of the household's residence. All the communities are from two province far away, however, communities in each province is adjacent to each other. The first 1000 samples are from one province, and the rest are from the other.          |\n",
    "| fee_edu       | Scale     | The household's yearly fee of education. Unit: CNY 2018                   |\n",
    "| fee_food      | Scale     | The household's yearly fee of food. Unit: CNY 2018                        |\n",
    "| fee_med       | Scale     | The household's yearly fee of medical care. Unit: CNY 2018                |\n",
    "| fee_ent       | Scale     | The household's yearly fee of entertainment. Unit: CNY 2018               |\n",
    "| fee_fin       | Scale     | The household's yearly fee to repay the loan. Unit: CNY 2018              |\n",
    "| members       | Scale     | Number of family members in the household. Unit: CNY 2018                 |\n",
    "| industry      | Nominal   | The industry that contributes the majority of income to the household.    |\n",
    "| sq_field      | Scale     | Square of agriculture field the household can use. (In China, land is not privately owned, so it uses the word \"use\".)  Unit: Mu (About 667 m^2)                                                     |\n",
    "| sq_pool       | Scale     | Square of fish pool the household can use. Unit: Mu (About 667 m^2)       |\n",
    "| sq_forest     | Scale     | Square of forest the household can use. Unit: Mu (About 667 m^2)          |\n",
    "| sq_fruit      | Scale     | Square of orchard the household can use. Unit: Mu (About 667 m^2)         |\n",
    "| sq_other      | Scale     | Square of other land the household can use. Unit: Mu (About 667 m^2)      |\n",
    "| water         | Ordinal   | Water source: 1 - from tap  2 - from well  3 - from polluted river. The options are from better to worse.                 |\n",
    "| dwelling      | Ordinal   | Meterial of the house: 1 - concrete  2 - tile  3 - wood  4 - soil  5 - herb. The options are from better to worse.            |\n",
    "| power         | Ordinal   | Power source: 1 - firewood  2 - coal  3 - natural gas  4 - electricity. The options are from worse to better.                 |\n",
    "| sq_house      | Scale     | Square of the house. Unit: m^2                                            |\n",
    "| traffic       | Ordinal   | Traffic condition in the community: 1 - walking on the mountain road  2 - walking on a smooth road  3 - bicycle  4 - motorcycle  5 - car  6 – truck. The options are from worse to better.           |\n",
    "| policy1       | Nominal   | Whether supported by the policy.                      |\n",
    "| policy2       | Nominal   | Whether supported by the policy. |\n",
    "| policy3       | Nominal   | Whether supported by the policy.        |\n",
    "| policy4       | Nominal   | Whether supported by the policy. |\n",
    "| policy5       | Nominal   | Whether supported by the policy.  |\n",
    "| policy6       | Nominal   | Whether supported by Policy 6, which is an additional policy to help rural farmers in difficulties who have not participated, who are unable to participate in Policy 4, or who cannot afford to pay for themselves after participating in Policy 4. |\n",
    "| policy_ot     | Nominal   | Whether supported by other similar policy.                                |\n",
    "| income        | Scale     | Yearly income of the household. Unit: CNY 2018                            |\n",
    "| poor          | Nominal   | Whether recognized as a poor household which needs financial aid.         |\n",
    "| financial_aid | Scale     | The amount of financial aid given to the poor household by the government or charities. (Including discount, materials, and allowance.) Unit: CNY 2018                                               |"
   ]
  },
  {
   "cell_type": "markdown",
   "id": "05b4f72e-685c-4113-be8f-14f19e9b4632",
   "metadata": {},
   "source": [
    "# Data profiling"
   ]
  },
  {
   "cell_type": "code",
   "execution_count": 3,
   "id": "53ba878f-a26c-4832-876d-f54c9cbbca5b",
   "metadata": {},
   "outputs": [],
   "source": [
    "dataset = pd.read_excel('data/China Poverty 2018.xlsx', sheet_name='data')"
   ]
  },
  {
   "cell_type": "markdown",
   "id": "805757fe-b2fe-4f30-b31b-438e7fd8a8a0",
   "metadata": {},
   "source": [
    "Have a glimpse on the dataset."
   ]
  },
  {
   "cell_type": "code",
   "execution_count": 3,
   "id": "45b8d800-bbae-4b98-b6e5-c33337aafaa7",
   "metadata": {},
   "outputs": [
    {
     "data": {
      "text/html": [
       "<div>\n",
       "<style scoped>\n",
       "    .dataframe tbody tr th:only-of-type {\n",
       "        vertical-align: middle;\n",
       "    }\n",
       "\n",
       "    .dataframe tbody tr th {\n",
       "        vertical-align: top;\n",
       "    }\n",
       "\n",
       "    .dataframe thead th {\n",
       "        text-align: right;\n",
       "    }\n",
       "</style>\n",
       "<table border=\"1\" class=\"dataframe\">\n",
       "  <thead>\n",
       "    <tr style=\"text-align: right;\">\n",
       "      <th></th>\n",
       "      <th>community</th>\n",
       "      <th>fee_edu</th>\n",
       "      <th>fee_food</th>\n",
       "      <th>fee_med</th>\n",
       "      <th>fee_ent</th>\n",
       "      <th>fee_fin</th>\n",
       "      <th>members</th>\n",
       "      <th>industry</th>\n",
       "      <th>sq_field</th>\n",
       "      <th>sq_pool</th>\n",
       "      <th>...</th>\n",
       "      <th>policy1</th>\n",
       "      <th>policy2</th>\n",
       "      <th>policy3</th>\n",
       "      <th>policy4</th>\n",
       "      <th>policy5</th>\n",
       "      <th>policy6</th>\n",
       "      <th>policy_ot</th>\n",
       "      <th>income</th>\n",
       "      <th>poor</th>\n",
       "      <th>financial_aid</th>\n",
       "    </tr>\n",
       "  </thead>\n",
       "  <tbody>\n",
       "    <tr>\n",
       "      <th>0</th>\n",
       "      <td>ZhongCun</td>\n",
       "      <td>1800.0</td>\n",
       "      <td>10000.0</td>\n",
       "      <td>800.0</td>\n",
       "      <td>0.0</td>\n",
       "      <td>2000.0</td>\n",
       "      <td>5.0</td>\n",
       "      <td>manufacture</td>\n",
       "      <td>2.0</td>\n",
       "      <td>0.0</td>\n",
       "      <td>...</td>\n",
       "      <td>NaN</td>\n",
       "      <td>NaN</td>\n",
       "      <td>NaN</td>\n",
       "      <td>NaN</td>\n",
       "      <td>1.0</td>\n",
       "      <td>NaN</td>\n",
       "      <td>NaN</td>\n",
       "      <td>23000.0</td>\n",
       "      <td>0.0</td>\n",
       "      <td>NaN</td>\n",
       "    </tr>\n",
       "    <tr>\n",
       "      <th>1</th>\n",
       "      <td>ZhongCun</td>\n",
       "      <td>0.0</td>\n",
       "      <td>8500.0</td>\n",
       "      <td>800.0</td>\n",
       "      <td>0.0</td>\n",
       "      <td>0.0</td>\n",
       "      <td>3.0</td>\n",
       "      <td>manufacture</td>\n",
       "      <td>2.0</td>\n",
       "      <td>0.0</td>\n",
       "      <td>...</td>\n",
       "      <td>NaN</td>\n",
       "      <td>NaN</td>\n",
       "      <td>NaN</td>\n",
       "      <td>1.0</td>\n",
       "      <td>NaN</td>\n",
       "      <td>NaN</td>\n",
       "      <td>NaN</td>\n",
       "      <td>18000.0</td>\n",
       "      <td>1.0</td>\n",
       "      <td>2000.0</td>\n",
       "    </tr>\n",
       "    <tr>\n",
       "      <th>2</th>\n",
       "      <td>ZhongCun</td>\n",
       "      <td>3450.0</td>\n",
       "      <td>9500.0</td>\n",
       "      <td>800.0</td>\n",
       "      <td>0.0</td>\n",
       "      <td>0.0</td>\n",
       "      <td>4.0</td>\n",
       "      <td>agriculture</td>\n",
       "      <td>0.0</td>\n",
       "      <td>0.0</td>\n",
       "      <td>...</td>\n",
       "      <td>NaN</td>\n",
       "      <td>NaN</td>\n",
       "      <td>NaN</td>\n",
       "      <td>1.0</td>\n",
       "      <td>NaN</td>\n",
       "      <td>NaN</td>\n",
       "      <td>1.0</td>\n",
       "      <td>25000.0</td>\n",
       "      <td>0.0</td>\n",
       "      <td>NaN</td>\n",
       "    </tr>\n",
       "    <tr>\n",
       "      <th>3</th>\n",
       "      <td>ZhongCun</td>\n",
       "      <td>11000.0</td>\n",
       "      <td>14500.0</td>\n",
       "      <td>600.0</td>\n",
       "      <td>0.0</td>\n",
       "      <td>0.0</td>\n",
       "      <td>7.0</td>\n",
       "      <td>business</td>\n",
       "      <td>1.0</td>\n",
       "      <td>0.0</td>\n",
       "      <td>...</td>\n",
       "      <td>NaN</td>\n",
       "      <td>NaN</td>\n",
       "      <td>NaN</td>\n",
       "      <td>NaN</td>\n",
       "      <td>NaN</td>\n",
       "      <td>NaN</td>\n",
       "      <td>1.0</td>\n",
       "      <td>38000.0</td>\n",
       "      <td>0.0</td>\n",
       "      <td>NaN</td>\n",
       "    </tr>\n",
       "    <tr>\n",
       "      <th>4</th>\n",
       "      <td>ZhongCun</td>\n",
       "      <td>650.0</td>\n",
       "      <td>7500.0</td>\n",
       "      <td>600.0</td>\n",
       "      <td>0.0</td>\n",
       "      <td>0.0</td>\n",
       "      <td>3.0</td>\n",
       "      <td>agriculture</td>\n",
       "      <td>2.0</td>\n",
       "      <td>0.0</td>\n",
       "      <td>...</td>\n",
       "      <td>NaN</td>\n",
       "      <td>NaN</td>\n",
       "      <td>1.0</td>\n",
       "      <td>NaN</td>\n",
       "      <td>NaN</td>\n",
       "      <td>NaN</td>\n",
       "      <td>1.0</td>\n",
       "      <td>17000.0</td>\n",
       "      <td>1.0</td>\n",
       "      <td>2000.0</td>\n",
       "    </tr>\n",
       "  </tbody>\n",
       "</table>\n",
       "<p>5 rows × 28 columns</p>\n",
       "</div>"
      ],
      "text/plain": [
       "  community  fee_edu  fee_food  fee_med  fee_ent  fee_fin  members  \\\n",
       "0  ZhongCun   1800.0   10000.0    800.0      0.0   2000.0      5.0   \n",
       "1  ZhongCun      0.0    8500.0    800.0      0.0      0.0      3.0   \n",
       "2  ZhongCun   3450.0    9500.0    800.0      0.0      0.0      4.0   \n",
       "3  ZhongCun  11000.0   14500.0    600.0      0.0      0.0      7.0   \n",
       "4  ZhongCun    650.0    7500.0    600.0      0.0      0.0      3.0   \n",
       "\n",
       "      industry  sq_field  sq_pool  ...  policy1  policy2  policy3  policy4  \\\n",
       "0  manufacture       2.0      0.0  ...      NaN      NaN      NaN      NaN   \n",
       "1  manufacture       2.0      0.0  ...      NaN      NaN      NaN      1.0   \n",
       "2  agriculture       0.0      0.0  ...      NaN      NaN      NaN      1.0   \n",
       "3     business       1.0      0.0  ...      NaN      NaN      NaN      NaN   \n",
       "4  agriculture       2.0      0.0  ...      NaN      NaN      1.0      NaN   \n",
       "\n",
       "   policy5  policy6  policy_ot   income  poor  financial_aid  \n",
       "0      1.0      NaN        NaN  23000.0   0.0            NaN  \n",
       "1      NaN      NaN        NaN  18000.0   1.0         2000.0  \n",
       "2      NaN      NaN        1.0  25000.0   0.0            NaN  \n",
       "3      NaN      NaN        1.0  38000.0   0.0            NaN  \n",
       "4      NaN      NaN        1.0  17000.0   1.0         2000.0  \n",
       "\n",
       "[5 rows x 28 columns]"
      ]
     },
     "execution_count": 3,
     "metadata": {},
     "output_type": "execute_result"
    }
   ],
   "source": [
    "dataset.head()"
   ]
  },
  {
   "cell_type": "code",
   "execution_count": 4,
   "id": "c31a24b8-7eff-4882-8634-40f59d860f68",
   "metadata": {},
   "outputs": [
    {
     "data": {
      "text/html": [
       "<div>\n",
       "<style scoped>\n",
       "    .dataframe tbody tr th:only-of-type {\n",
       "        vertical-align: middle;\n",
       "    }\n",
       "\n",
       "    .dataframe tbody tr th {\n",
       "        vertical-align: top;\n",
       "    }\n",
       "\n",
       "    .dataframe thead th {\n",
       "        text-align: right;\n",
       "    }\n",
       "</style>\n",
       "<table border=\"1\" class=\"dataframe\">\n",
       "  <thead>\n",
       "    <tr style=\"text-align: right;\">\n",
       "      <th></th>\n",
       "      <th>fee_edu</th>\n",
       "      <th>fee_food</th>\n",
       "      <th>fee_med</th>\n",
       "      <th>fee_ent</th>\n",
       "      <th>fee_fin</th>\n",
       "      <th>members</th>\n",
       "      <th>sq_field</th>\n",
       "      <th>sq_pool</th>\n",
       "      <th>sq_forest</th>\n",
       "      <th>sq_fruit</th>\n",
       "      <th>...</th>\n",
       "      <th>policy1</th>\n",
       "      <th>policy2</th>\n",
       "      <th>policy3</th>\n",
       "      <th>policy4</th>\n",
       "      <th>policy5</th>\n",
       "      <th>policy6</th>\n",
       "      <th>policy_ot</th>\n",
       "      <th>income</th>\n",
       "      <th>poor</th>\n",
       "      <th>financial_aid</th>\n",
       "    </tr>\n",
       "  </thead>\n",
       "  <tbody>\n",
       "    <tr>\n",
       "      <th>count</th>\n",
       "      <td>1395.000000</td>\n",
       "      <td>1550.000000</td>\n",
       "      <td>1410.000000</td>\n",
       "      <td>1176.000000</td>\n",
       "      <td>1096.000000</td>\n",
       "      <td>1589.000000</td>\n",
       "      <td>1544.000000</td>\n",
       "      <td>616.000000</td>\n",
       "      <td>932.000000</td>\n",
       "      <td>657.000000</td>\n",
       "      <td>...</td>\n",
       "      <td>40.0</td>\n",
       "      <td>309.0</td>\n",
       "      <td>828.0</td>\n",
       "      <td>1235.0</td>\n",
       "      <td>73.0</td>\n",
       "      <td>329.0</td>\n",
       "      <td>128.0</td>\n",
       "      <td>1521.000000</td>\n",
       "      <td>1529.000000</td>\n",
       "      <td>670.000000</td>\n",
       "    </tr>\n",
       "    <tr>\n",
       "      <th>mean</th>\n",
       "      <td>5626.629391</td>\n",
       "      <td>10451.505161</td>\n",
       "      <td>2679.848936</td>\n",
       "      <td>397.266156</td>\n",
       "      <td>686.963504</td>\n",
       "      <td>4.794840</td>\n",
       "      <td>1.802979</td>\n",
       "      <td>0.206331</td>\n",
       "      <td>2.162843</td>\n",
       "      <td>0.418113</td>\n",
       "      <td>...</td>\n",
       "      <td>1.0</td>\n",
       "      <td>1.0</td>\n",
       "      <td>1.0</td>\n",
       "      <td>1.0</td>\n",
       "      <td>1.0</td>\n",
       "      <td>1.0</td>\n",
       "      <td>1.0</td>\n",
       "      <td>34720.325348</td>\n",
       "      <td>0.528450</td>\n",
       "      <td>5524.190164</td>\n",
       "    </tr>\n",
       "    <tr>\n",
       "      <th>std</th>\n",
       "      <td>8005.395748</td>\n",
       "      <td>6697.273421</td>\n",
       "      <td>6054.031621</td>\n",
       "      <td>1356.359803</td>\n",
       "      <td>3851.743151</td>\n",
       "      <td>1.914928</td>\n",
       "      <td>2.172315</td>\n",
       "      <td>0.570331</td>\n",
       "      <td>4.698006</td>\n",
       "      <td>1.335967</td>\n",
       "      <td>...</td>\n",
       "      <td>0.0</td>\n",
       "      <td>0.0</td>\n",
       "      <td>0.0</td>\n",
       "      <td>0.0</td>\n",
       "      <td>0.0</td>\n",
       "      <td>0.0</td>\n",
       "      <td>0.0</td>\n",
       "      <td>27620.904390</td>\n",
       "      <td>0.499353</td>\n",
       "      <td>8399.647881</td>\n",
       "    </tr>\n",
       "    <tr>\n",
       "      <th>min</th>\n",
       "      <td>0.000000</td>\n",
       "      <td>0.000000</td>\n",
       "      <td>0.000000</td>\n",
       "      <td>0.000000</td>\n",
       "      <td>0.000000</td>\n",
       "      <td>1.000000</td>\n",
       "      <td>0.000000</td>\n",
       "      <td>0.000000</td>\n",
       "      <td>0.000000</td>\n",
       "      <td>0.000000</td>\n",
       "      <td>...</td>\n",
       "      <td>1.0</td>\n",
       "      <td>1.0</td>\n",
       "      <td>1.0</td>\n",
       "      <td>1.0</td>\n",
       "      <td>1.0</td>\n",
       "      <td>1.0</td>\n",
       "      <td>1.0</td>\n",
       "      <td>0.000000</td>\n",
       "      <td>0.000000</td>\n",
       "      <td>0.000000</td>\n",
       "    </tr>\n",
       "    <tr>\n",
       "      <th>25%</th>\n",
       "      <td>700.000000</td>\n",
       "      <td>6000.000000</td>\n",
       "      <td>600.000000</td>\n",
       "      <td>0.000000</td>\n",
       "      <td>0.000000</td>\n",
       "      <td>4.000000</td>\n",
       "      <td>0.900000</td>\n",
       "      <td>0.000000</td>\n",
       "      <td>0.000000</td>\n",
       "      <td>0.000000</td>\n",
       "      <td>...</td>\n",
       "      <td>1.0</td>\n",
       "      <td>1.0</td>\n",
       "      <td>1.0</td>\n",
       "      <td>1.0</td>\n",
       "      <td>1.0</td>\n",
       "      <td>1.0</td>\n",
       "      <td>1.0</td>\n",
       "      <td>18000.000000</td>\n",
       "      <td>0.000000</td>\n",
       "      <td>2000.000000</td>\n",
       "    </tr>\n",
       "    <tr>\n",
       "      <th>50%</th>\n",
       "      <td>3600.000000</td>\n",
       "      <td>9500.000000</td>\n",
       "      <td>1200.000000</td>\n",
       "      <td>0.000000</td>\n",
       "      <td>0.000000</td>\n",
       "      <td>5.000000</td>\n",
       "      <td>1.500000</td>\n",
       "      <td>0.000000</td>\n",
       "      <td>0.150000</td>\n",
       "      <td>0.000000</td>\n",
       "      <td>...</td>\n",
       "      <td>1.0</td>\n",
       "      <td>1.0</td>\n",
       "      <td>1.0</td>\n",
       "      <td>1.0</td>\n",
       "      <td>1.0</td>\n",
       "      <td>1.0</td>\n",
       "      <td>1.0</td>\n",
       "      <td>26000.000000</td>\n",
       "      <td>1.000000</td>\n",
       "      <td>3000.000000</td>\n",
       "    </tr>\n",
       "    <tr>\n",
       "      <th>75%</th>\n",
       "      <td>7800.000000</td>\n",
       "      <td>13000.000000</td>\n",
       "      <td>2600.000000</td>\n",
       "      <td>200.000000</td>\n",
       "      <td>0.000000</td>\n",
       "      <td>6.000000</td>\n",
       "      <td>2.100000</td>\n",
       "      <td>0.000000</td>\n",
       "      <td>3.000000</td>\n",
       "      <td>0.000000</td>\n",
       "      <td>...</td>\n",
       "      <td>1.0</td>\n",
       "      <td>1.0</td>\n",
       "      <td>1.0</td>\n",
       "      <td>1.0</td>\n",
       "      <td>1.0</td>\n",
       "      <td>1.0</td>\n",
       "      <td>1.0</td>\n",
       "      <td>43000.000000</td>\n",
       "      <td>1.000000</td>\n",
       "      <td>6212.000000</td>\n",
       "    </tr>\n",
       "    <tr>\n",
       "      <th>max</th>\n",
       "      <td>100000.000000</td>\n",
       "      <td>73000.000000</td>\n",
       "      <td>100000.000000</td>\n",
       "      <td>30000.000000</td>\n",
       "      <td>60000.000000</td>\n",
       "      <td>13.000000</td>\n",
       "      <td>40.500000</td>\n",
       "      <td>4.000000</td>\n",
       "      <td>40.000000</td>\n",
       "      <td>20.000000</td>\n",
       "      <td>...</td>\n",
       "      <td>1.0</td>\n",
       "      <td>1.0</td>\n",
       "      <td>1.0</td>\n",
       "      <td>1.0</td>\n",
       "      <td>1.0</td>\n",
       "      <td>1.0</td>\n",
       "      <td>1.0</td>\n",
       "      <td>350000.000000</td>\n",
       "      <td>1.000000</td>\n",
       "      <td>106305.000000</td>\n",
       "    </tr>\n",
       "  </tbody>\n",
       "</table>\n",
       "<p>8 rows × 26 columns</p>\n",
       "</div>"
      ],
      "text/plain": [
       "             fee_edu      fee_food        fee_med       fee_ent       fee_fin  \\\n",
       "count    1395.000000   1550.000000    1410.000000   1176.000000   1096.000000   \n",
       "mean     5626.629391  10451.505161    2679.848936    397.266156    686.963504   \n",
       "std      8005.395748   6697.273421    6054.031621   1356.359803   3851.743151   \n",
       "min         0.000000      0.000000       0.000000      0.000000      0.000000   \n",
       "25%       700.000000   6000.000000     600.000000      0.000000      0.000000   \n",
       "50%      3600.000000   9500.000000    1200.000000      0.000000      0.000000   \n",
       "75%      7800.000000  13000.000000    2600.000000    200.000000      0.000000   \n",
       "max    100000.000000  73000.000000  100000.000000  30000.000000  60000.000000   \n",
       "\n",
       "           members     sq_field     sq_pool   sq_forest    sq_fruit  ...  \\\n",
       "count  1589.000000  1544.000000  616.000000  932.000000  657.000000  ...   \n",
       "mean      4.794840     1.802979    0.206331    2.162843    0.418113  ...   \n",
       "std       1.914928     2.172315    0.570331    4.698006    1.335967  ...   \n",
       "min       1.000000     0.000000    0.000000    0.000000    0.000000  ...   \n",
       "25%       4.000000     0.900000    0.000000    0.000000    0.000000  ...   \n",
       "50%       5.000000     1.500000    0.000000    0.150000    0.000000  ...   \n",
       "75%       6.000000     2.100000    0.000000    3.000000    0.000000  ...   \n",
       "max      13.000000    40.500000    4.000000   40.000000   20.000000  ...   \n",
       "\n",
       "       policy1  policy2  policy3  policy4  policy5  policy6  policy_ot  \\\n",
       "count     40.0    309.0    828.0   1235.0     73.0    329.0      128.0   \n",
       "mean       1.0      1.0      1.0      1.0      1.0      1.0        1.0   \n",
       "std        0.0      0.0      0.0      0.0      0.0      0.0        0.0   \n",
       "min        1.0      1.0      1.0      1.0      1.0      1.0        1.0   \n",
       "25%        1.0      1.0      1.0      1.0      1.0      1.0        1.0   \n",
       "50%        1.0      1.0      1.0      1.0      1.0      1.0        1.0   \n",
       "75%        1.0      1.0      1.0      1.0      1.0      1.0        1.0   \n",
       "max        1.0      1.0      1.0      1.0      1.0      1.0        1.0   \n",
       "\n",
       "              income         poor  financial_aid  \n",
       "count    1521.000000  1529.000000     670.000000  \n",
       "mean    34720.325348     0.528450    5524.190164  \n",
       "std     27620.904390     0.499353    8399.647881  \n",
       "min         0.000000     0.000000       0.000000  \n",
       "25%     18000.000000     0.000000    2000.000000  \n",
       "50%     26000.000000     1.000000    3000.000000  \n",
       "75%     43000.000000     1.000000    6212.000000  \n",
       "max    350000.000000     1.000000  106305.000000  \n",
       "\n",
       "[8 rows x 26 columns]"
      ]
     },
     "execution_count": 4,
     "metadata": {},
     "output_type": "execute_result"
    }
   ],
   "source": [
    "dataset.describe()"
   ]
  },
  {
   "cell_type": "markdown",
   "id": "ba65c4fd-bed2-4074-b5de-70e1646d046c",
   "metadata": {},
   "source": [
    "## Visualization\n",
    "\n",
    "Do we have a more pretty output or more clear visualization?"
   ]
  },
  {
   "cell_type": "code",
   "execution_count": 61,
   "id": "ef988c42-093f-469d-997c-81efa93db0a1",
   "metadata": {},
   "outputs": [
    {
     "data": {
      "application/vnd.jupyter.widget-view+json": {
       "model_id": "46570af5f4264ad3a58958a1f4f5a851",
       "version_major": 2,
       "version_minor": 0
      },
      "text/plain": [
       "Summarize dataset:   0%|          | 0/5 [00:00<?, ?it/s]"
      ]
     },
     "metadata": {},
     "output_type": "display_data"
    },
    {
     "name": "stderr",
     "output_type": "stream",
     "text": [
      "/home/cld/.conda/envs/tf5/lib/python3.9/site-packages/pandas_profiling/model/correlations.py:55: UserWarning: There was an attempt to calculate the cramers correlation, but this failed.\n",
      "To hide this warning, disable the calculation\n",
      "(using `df.profile_report(correlations={\"cramers\": {\"calculate\": False}})`\n",
      "If this is problematic for your use case, please report this as an issue:\n",
      "https://github.com/pandas-profiling/pandas-profiling/issues\n",
      "(include the error message: 'No data; `observed` has size 0.')\n",
      "  warnings.warn(\n"
     ]
    },
    {
     "data": {
      "application/vnd.jupyter.widget-view+json": {
       "model_id": "3adff1ebd71c4b89980ead0aeaec8420",
       "version_major": 2,
       "version_minor": 0
      },
      "text/plain": [
       "Generate report structure:   0%|          | 0/1 [00:00<?, ?it/s]"
      ]
     },
     "metadata": {},
     "output_type": "display_data"
    },
    {
     "data": {
      "application/vnd.jupyter.widget-view+json": {
       "model_id": "694772eed53947ffbf5b48fc1c4212ed",
       "version_major": 2,
       "version_minor": 0
      },
      "text/plain": [
       "Render HTML:   0%|          | 0/1 [00:00<?, ?it/s]"
      ]
     },
     "metadata": {},
     "output_type": "display_data"
    }
   ],
   "source": [
    "from pandas_profiling import ProfileReport\n",
    "profile = ProfileReport(dataset, title='China Poverty 2018', \n",
    "                        plot={'dpi': 200, 'image_format': 'png'}, interactions=None)\n",
    "profile = profile.to_html()\n",
    "pd.to_pickle(profile, 'results/poverty_report.html')"
   ]
  },
  {
   "cell_type": "markdown",
   "id": "4605c21f-83b9-4df5-9249-5492df5a9daf",
   "metadata": {},
   "source": [
    "How to read the data profiling?\n",
    "\n",
    "[Documentation](https://pandas-profiling.ydata.ai/docs/master/index.html#getting-started)\n",
    "\n",
    "- Histogram: find whether there's missing values, whether text or numeric, number of distinct values (distinguish interval variables with nominal/ordinal variables), distribution, remove constants, remove IDs\n",
    "- Correlation: variable selection\n",
    "- Missing values: from \"count\", find the ratio of missing values; from \"matrix\", find type of missing values (invastigations with short or long form); from \"heatmap\", find relationship between missing values.\n",
    "\n",
    "Why \"invalid coefficients\"?\n",
    "\n",
    "These variables are constants.\n",
    "\n",
    "Theory of filling missing values: missing values are independent with other variables or hidden factors. Often not satisfied in real-world problems.\n",
    "\n",
    "Example: Air conditioner often breaks down on hot weather. Missing of air conditioner data has relationship with temprature."
   ]
  },
  {
   "cell_type": "markdown",
   "id": "cba0d8d1-1963-41d3-837d-366193b269fb",
   "metadata": {},
   "source": [
    "# Type of variables\n",
    "\n",
    "1. nominal variable\n",
    "\n",
    "- Weakest structure\n",
    "- Idenfied by name\n",
    "- Cannot compare between each other\n",
    "\n",
    "For example, \"Iris Setosa\", \"Iris Versicolour\", and \"Iris Virginica\".\n",
    "\n",
    "Refering to the [table of variables' meaning](#Background), and discuss about which variables are nominal.\n",
    "\n",
    "2. ordinal variable\n",
    "\n",
    "- Stronger than nominal variable\n",
    "- Can compare between each other\n",
    "- Can either be numeric or text\n",
    "- Add or minus operations are not defined\n",
    "\n",
    "For example, Likert scale from 1-star to 5-stars.\n",
    "\n",
    "3. interval variable and ratio variable\n",
    "\n",
    "- interval variable can add or minus\n",
    "- ratio variable can add, minus, and multiple\n",
    "\n",
    "For example, temparature and humidity.\n",
    "\n",
    "In data mining, we don't further distinguish interval and ratio variables.\n",
    "\n",
    "## Recap\n",
    "\n",
    "Solution of linear regression:\n",
    "\n",
    "$$\n",
    "\\hat \\beta = (X^T X)^{-1} X^T Y\n",
    "$$\n",
    "\n",
    "Models can handle only interval variable:\n",
    "\n",
    "- Variables should be numeric\n",
    "- What will happen if we change 1-agriculture 2-manufacture to 1-manufacture 2-agriculture? It should not affect the results.\n",
    "- How to avoid perform calculating on ordinal variables?\n",
    "- Can linear algebra handle missing values?\n",
    "\n",
    "## How to solve?\n",
    "\n",
    "- Encoding nominal and ordinal variables\n",
    "- Scoring ordinal variables: convert education level to education year. (6-primary 9-secondary 12-middle 16-collage) \n",
    "- Filling missing values"
   ]
  },
  {
   "cell_type": "markdown",
   "id": "9fa95339-0ba6-4d01-8117-a7a5291006a4",
   "metadata": {},
   "source": [
    "# Filling missing values\n",
    "\n",
    "## Drop\n",
    "\n",
    "Initial try: drop samples with missing values.\n",
    "\n",
    "Pros:\n",
    "\n",
    "- Will not change the distribution of variables\n",
    "- Only suitable when the dataset is large\n",
    "\n",
    "Cons:\n",
    "\n",
    "- Lost information and special cases\n",
    "\n",
    "We should not drop all missing values, but we can drop the samples where the dependent variable is missing."
   ]
  },
  {
   "cell_type": "code",
   "execution_count": 6,
   "id": "89fbfd54-adc6-4860-92ef-866f234ca79f",
   "metadata": {},
   "outputs": [
    {
     "data": {
      "text/plain": [
       "Index(['community', 'fee_edu', 'fee_food', 'fee_med', 'fee_ent', 'fee_fin',\n",
       "       'members', 'industry', 'sq_field', 'sq_pool', 'sq_forest', 'sq_fruit',\n",
       "       'sq_other', 'water', 'dwelling', 'power', 'sq_house', 'traffic',\n",
       "       'policy1', 'policy2', 'policy3', 'policy4', 'policy5', 'policy6',\n",
       "       'policy_ot', 'income', 'poor', 'financial_aid'],\n",
       "      dtype='object')"
      ]
     },
     "execution_count": 6,
     "metadata": {},
     "output_type": "execute_result"
    }
   ],
   "source": [
    "dataset.columns"
   ]
  },
  {
   "cell_type": "code",
   "execution_count": 4,
   "id": "56142f9c-bd29-42e9-9058-f866bc70b993",
   "metadata": {},
   "outputs": [],
   "source": [
    "x = dataset[['community', 'fee_edu', 'fee_food', 'fee_med', 'fee_ent', 'fee_fin',\n",
    "       'members', 'industry', 'sq_field', 'sq_pool', 'sq_forest', 'sq_fruit',\n",
    "       'sq_other', 'water', 'dwelling', 'power', 'sq_house', 'traffic',\n",
    "       'policy1', 'policy2', 'policy3', 'policy4', 'policy5', 'policy6',\n",
    "       'policy_ot', 'income']]\n",
    "y = dataset[['poor']]"
   ]
  },
  {
   "cell_type": "code",
   "execution_count": 8,
   "id": "5252939a-5476-4e60-b791-da8e882e19ac",
   "metadata": {},
   "outputs": [
    {
     "name": "stdout",
     "output_type": "stream",
     "text": [
      "(1603, 26), (1603, 1) before dropping.\n",
      "(1529, 26), (1529, 1) after dropping.\n"
     ]
    }
   ],
   "source": [
    "print(f\"{x.shape}, {y.shape} before dropping.\")\n",
    "\n",
    "preserved_index = y.dropna().index\n",
    "\n",
    "x = x.loc[preserved_index, :]\n",
    "y = y.loc[preserved_index, :]\n",
    "print(f\"{x.shape}, {y.shape} after dropping.\")"
   ]
  },
  {
   "attachments": {
    "5d611bea-82e2-425f-8140-7b371768fb4b.png": {
     "image/png": "[encoded data removed]"
    }
   },
   "cell_type": "markdown",
   "id": "6617137a-67f8-4d42-b1bd-8b3f241b6ef6",
   "metadata": {
    "tags": []
   },
   "source": [
    "## Golden rule of machine learning\n",
    "\n",
    "Before we can fill missing values, we should separate dataset into training set and testing set.\n",
    "\n",
    "Why we should separate dataset into training set and testing set?\n",
    "\n",
    "Overfitting and underfitting problem. For example, students need homework and mock tests before the final exam.\n",
    "\n",
    "Denote errors in each dataset as $E$.\n",
    "\n",
    "$$\n",
    "E_{test} = (E_{test} - E_{train}) + (E_{train} - E_{best}) + E_{best}\n",
    "$$\n",
    "\n",
    "The gap between testing set and training set is **variance**, and the gap between training set and noice is **bias**. $E_{best}$ is the noise, which we cannot eliminate with the dataset.\n",
    "\n",
    "The golden rule of machine learning is the trade-off between variance and bias.\n",
    "\n",
    "- High bias and high variance: bad model\n",
    "- High bias and low variance: underfitting model\n",
    "- Low bias and high variance: overfitting model\n",
    "- Low bias and low vairance: impossible model\n",
    "\n",
    "We should find the frontier in the trade-off.\n",
    "\n",
    "![image.png](attachment:5d611bea-82e2-425f-8140-7b371768fb4b.png)\n",
    "\n",
    "Image from: https://www.researchgate.net/figure/Training-error-and-cross-validation-error-as-a-function-of-model-complexity_fig3_222344717\n",
    "\n",
    "To give a fair estimation, we should not use the distribution of the testing set in modeling. So, we should split the dataset into the training set and testing set even before the pre-processing."
   ]
  },
  {
   "cell_type": "code",
   "execution_count": 46,
   "id": "7eedf216-ca89-43df-b8f0-09cd8c7692ef",
   "metadata": {},
   "outputs": [],
   "source": [
    "from sklearn.model_selection import train_test_split\n",
    "\n",
    "x_train, x_test, y_train, y_test = train_test_split(\n",
    "    x, y, train_size=0.8, shuffle=True, random_state=403)"
   ]
  },
  {
   "cell_type": "markdown",
   "id": "1a1d2f30-8757-4336-b585-2b1dbbe0dd09",
   "metadata": {},
   "source": [
    "In the following sections, we use the whole dataset for lecture purpose. All the filling is applied to other variables, while `x_train, x_test, y_train, y_test` aren't changed. After we learn everything, we put the steps together as a pipeline and apply to these variables."
   ]
  },
  {
   "cell_type": "markdown",
   "id": "50eedce6-8fb7-4fcf-a915-815df85f9813",
   "metadata": {},
   "source": [
    "## Forward and backward\n",
    "\n",
    "This method fills each hole with the value before or after it in the same column.\n",
    "\n",
    "When is this method not suitable to be used?\n",
    "\n",
    "- The dataset is from an investigation. The order of samples depends on when the question paper is collected. Interviewees should be dependent with each other.\n",
    "- The first or last sample has missing values.\n",
    "\n",
    "When can this method be used?\n",
    "\n",
    "- If the samples are sorted from earlier to later\n",
    "- If the adjacent samples mean neighbors in real world\n",
    "\n",
    "In this case, we use \"traffic\" as an example: the adjacent samples are from the same village, so the road condition should be the same."
   ]
  },
  {
   "cell_type": "code",
   "execution_count": 10,
   "id": "012c3bef-b346-4771-89a7-80c264b29ab2",
   "metadata": {},
   "outputs": [
    {
     "name": "stdout",
     "output_type": "stream",
     "text": [
      "Ratio of missing values: traffic    0.002495\n",
      "dtype: float64.\n",
      "Missing indices: (array([1009, 1353, 1355, 1590]), array([0, 0, 0, 0]))\n"
     ]
    }
   ],
   "source": [
    "traffic = dataset[['traffic']]\n",
    "print(f\"Ratio of missing values: {traffic.isna().mean()}.\")\n",
    "print(f\"Missing indices: {np.where(traffic.isna())}\")"
   ]
  },
  {
   "cell_type": "code",
   "execution_count": 11,
   "id": "f4fa7233-26fe-4854-be59-2fc23b84260d",
   "metadata": {},
   "outputs": [
    {
     "name": "stdout",
     "output_type": "stream",
     "text": [
      "Ratio of missing values: traffic    0.0\n",
      "dtype: float64.\n"
     ]
    },
    {
     "data": {
      "text/plain": [
       "(      traffic\n",
       " 1008      4.0\n",
       " 1009      4.0\n",
       " 1010      5.0,\n",
       "       traffic\n",
       " 1352      6.0\n",
       " 1353      6.0\n",
       " 1354      4.0\n",
       " 1355      4.0\n",
       " 1356      3.0,\n",
       "       traffic\n",
       " 1589      6.0\n",
       " 1590      6.0\n",
       " 1591      6.0)"
      ]
     },
     "execution_count": 11,
     "metadata": {},
     "output_type": "execute_result"
    }
   ],
   "source": [
    "traffic_nona = traffic.fillna(method='ffill', inplace=False)\n",
    "print(f\"Ratio of missing values: {traffic_nona.isna().mean()}.\")\n",
    "traffic_nona[1008:1011], traffic_nona[1352:1357], traffic_nona[1589:1592]"
   ]
  },
  {
   "cell_type": "markdown",
   "id": "84ddc766-1fd6-4f0b-bacb-883c04018a10",
   "metadata": {},
   "source": [
    "## Zero\n",
    "\n",
    "We can fill dummy variables with zeros.\n",
    "\n",
    "Dummy variables have only zero or one. In this case, if the household is appliable to a particular policy, he checks the question; otherwise, he leaves the question blank. This is the reason for the missing values, however, we cannot distinguish missing values with \"no\"."
   ]
  },
  {
   "cell_type": "code",
   "execution_count": 12,
   "id": "d1e5ce7d-304c-49b4-8277-7db42230b296",
   "metadata": {},
   "outputs": [
    {
     "name": "stdout",
     "output_type": "stream",
     "text": [
      "Ratio of missing values: policy1      0.0\n",
      "policy2      0.0\n",
      "policy3      0.0\n",
      "policy4      0.0\n",
      "policy5      0.0\n",
      "policy6      0.0\n",
      "policy_ot    0.0\n",
      "dtype: float64.\n"
     ]
    }
   ],
   "source": [
    "policies = dataset[['policy1', 'policy2', 'policy3', 'policy4', 'policy5', 'policy6', 'policy_ot']]\n",
    "policies_nona = policies.fillna(value=0, inplace=False)\n",
    "print(f\"Ratio of missing values: {policies_nona.isna().mean()}.\")"
   ]
  },
  {
   "cell_type": "markdown",
   "id": "1db5cb41-7b44-4d9d-8626-6baa52cf39b5",
   "metadata": {},
   "source": [
    "Also, we can fill interval variables with 0 based on the meaning in real world. It's not a general method for interval variable, but the meaning in real world is the more prior than the basic rule.\n",
    "\n",
    "- If one of the medical fee, entertainment fee, or financial fee is missing, it can be 0.\n",
    "- If the square of fishing pool, forest, fruit trees or other is missing, it can be 0.\n",
    "\n",
    "Education fee, food fee, and the square of farming field has the same data type with the variables above, but they cannot be 0, so we fill them with the average."
   ]
  },
  {
   "cell_type": "code",
   "execution_count": 13,
   "id": "56e3eb7a-9e72-43f4-a17e-fad4e4cb2dee",
   "metadata": {},
   "outputs": [
    {
     "name": "stdout",
     "output_type": "stream",
     "text": [
      "Ratio of missing values: fee_med      0.0\n",
      "fee_ent      0.0\n",
      "fee_fin      0.0\n",
      "sq_pool      0.0\n",
      "sq_forest    0.0\n",
      "sq_fruit     0.0\n",
      "sq_other     0.0\n",
      "dtype: float64.\n"
     ]
    }
   ],
   "source": [
    "spcl_fee_sq = dataset[['fee_med', 'fee_ent', 'fee_fin',\n",
    "                       'sq_pool', 'sq_forest', 'sq_fruit', 'sq_other']]\n",
    "spcl_fee_sq_nona = spcl_fee_sq.fillna(value=0, inplace=False)\n",
    "print(f\"Ratio of missing values: {spcl_fee_sq_nona.isna().mean()}.\")"
   ]
  },
  {
   "cell_type": "markdown",
   "id": "cd9f89ff-431d-4a39-bb96-6c1ff0cb3f62",
   "metadata": {},
   "source": [
    "## Scoring\n",
    "\n",
    "One way to handle ordinal variables is scoring. We know how many years each education level has, so we can convert the education level to education year.\n",
    "\n",
    "We don't have such column in this case, but we can make one."
   ]
  },
  {
   "cell_type": "code",
   "execution_count": 36,
   "id": "c8f8119f-c87d-413c-96ec-0db52973c249",
   "metadata": {},
   "outputs": [
    {
     "data": {
      "text/html": [
       "<div>\n",
       "<style scoped>\n",
       "    .dataframe tbody tr th:only-of-type {\n",
       "        vertical-align: middle;\n",
       "    }\n",
       "\n",
       "    .dataframe tbody tr th {\n",
       "        vertical-align: top;\n",
       "    }\n",
       "\n",
       "    .dataframe thead th {\n",
       "        text-align: right;\n",
       "    }\n",
       "</style>\n",
       "<table border=\"1\" class=\"dataframe\">\n",
       "  <thead>\n",
       "    <tr style=\"text-align: right;\">\n",
       "      <th></th>\n",
       "      <th>education</th>\n",
       "    </tr>\n",
       "  </thead>\n",
       "  <tbody>\n",
       "    <tr>\n",
       "      <th>0</th>\n",
       "      <td>primary</td>\n",
       "    </tr>\n",
       "    <tr>\n",
       "      <th>1</th>\n",
       "      <td>primary</td>\n",
       "    </tr>\n",
       "    <tr>\n",
       "      <th>2</th>\n",
       "      <td>nan</td>\n",
       "    </tr>\n",
       "    <tr>\n",
       "      <th>3</th>\n",
       "      <td>middle</td>\n",
       "    </tr>\n",
       "    <tr>\n",
       "      <th>4</th>\n",
       "      <td>collage</td>\n",
       "    </tr>\n",
       "    <tr>\n",
       "      <th>5</th>\n",
       "      <td>collage</td>\n",
       "    </tr>\n",
       "    <tr>\n",
       "      <th>6</th>\n",
       "      <td>secondary</td>\n",
       "    </tr>\n",
       "    <tr>\n",
       "      <th>7</th>\n",
       "      <td>nan</td>\n",
       "    </tr>\n",
       "    <tr>\n",
       "      <th>8</th>\n",
       "      <td>middle</td>\n",
       "    </tr>\n",
       "  </tbody>\n",
       "</table>\n",
       "</div>"
      ],
      "text/plain": [
       "   education\n",
       "0    primary\n",
       "1    primary\n",
       "2        nan\n",
       "3     middle\n",
       "4    collage\n",
       "5    collage\n",
       "6  secondary\n",
       "7        nan\n",
       "8     middle"
      ]
     },
     "execution_count": 36,
     "metadata": {},
     "output_type": "execute_result"
    }
   ],
   "source": [
    "education_dict = {'primary': 6, 'secondary': 9, 'middle': 12, 'collage': 16, np.nan: np.nan}\n",
    "\n",
    "education_level = np.array([['primary'], ['primary'], [np.nan], ['middle'], \n",
    "                            ['collage'], ['collage'], ['secondary'], [np.nan], ['middle']])\n",
    "education = pd.DataFrame(data=education_level, columns=['education'])\n",
    "education"
   ]
  },
  {
   "cell_type": "markdown",
   "id": "dc86ba70-5d12-4527-a492-0eee621c7c14",
   "metadata": {},
   "source": [
    "Apply the dictionary look-up function."
   ]
  },
  {
   "cell_type": "code",
   "execution_count": 37,
   "id": "f893d17a-b228-4166-b511-9b4716659e50",
   "metadata": {},
   "outputs": [
    {
     "data": {
      "text/plain": [
       "0     6.0\n",
       "1     6.0\n",
       "2     NaN\n",
       "3    12.0\n",
       "4    16.0\n",
       "5    16.0\n",
       "6     9.0\n",
       "7     NaN\n",
       "8    12.0\n",
       "Name: education, dtype: float64"
      ]
     },
     "execution_count": 37,
     "metadata": {},
     "output_type": "execute_result"
    }
   ],
   "source": [
    "education['education'].apply(education_dict.get)"
   ]
  },
  {
   "cell_type": "markdown",
   "id": "36a1d931-fd34-4739-b6f8-c18c0334b2e9",
   "metadata": {},
   "source": [
    "Now, we can treat the ordinal variable as the interval variable."
   ]
  },
  {
   "cell_type": "markdown",
   "id": "ce810ecb-8efe-4f1c-92e4-cd7f207bd11b",
   "metadata": {},
   "source": [
    "## Mode\n",
    "\n",
    "In most cases, the gap between different levels cannot be measured, and we cannot convert it to interval variables. There is no methods to handle ordinal variables without bias.\n",
    "\n",
    "- Sometimes, we treat the ordinal variable directly as the interval variable.\n",
    "- Also, we can fill ordinal variables with the mode. The \"mode\" means the most common value.\n",
    "\n",
    "In this case, we fill both nominal and ordinal variables with their mode.\n",
    "\n",
    "[Go to encoding](#Encoding)\n",
    "\n",
    "Particularly, if the dependent variable is ordinal, we can use ordinal logistic regression to make the analysis. Also, we can treat the dependent variable as nominal variable and do classification. \n",
    "\n",
    "**Limitation**: filling with mode will significantly change the (multinomial) distribution of the ordinal variables."
   ]
  },
  {
   "cell_type": "code",
   "execution_count": 38,
   "id": "eeffc43d-93b4-4711-ad5c-372572273ba9",
   "metadata": {},
   "outputs": [
    {
     "data": {
      "text/plain": [
       "ModeResult(mode=array([['agriculture', 2.0, 1.0, 1.0]], dtype=object), count=array([[1088,  812, 1440,  728]]))"
      ]
     },
     "execution_count": 38,
     "metadata": {},
     "output_type": "execute_result"
    }
   ],
   "source": [
    "from scipy.stats import mode\n",
    "\n",
    "ordinal = dataset[['industry', 'water', 'dwelling', 'power']]\n",
    "\n",
    "ordinal_mode = mode(ordinal)\n",
    "ordinal_mode"
   ]
  },
  {
   "cell_type": "code",
   "execution_count": 41,
   "id": "747d6e0f-2846-4f7a-af0a-355041901113",
   "metadata": {},
   "outputs": [
    {
     "data": {
      "text/plain": [
       "{'industry': 'agriculture', 'water': 2.0, 'dwelling': 1.0, 'power': 1.0}"
      ]
     },
     "execution_count": 41,
     "metadata": {},
     "output_type": "execute_result"
    }
   ],
   "source": [
    "ordinal_mode_dict = dict(zip(ordinal.columns, ordinal_mode.mode.flatten()))\n",
    "ordinal_mode_dict"
   ]
  },
  {
   "cell_type": "code",
   "execution_count": 42,
   "id": "fb27a468-88cb-40d2-b144-c9e621ef1b31",
   "metadata": {},
   "outputs": [
    {
     "name": "stdout",
     "output_type": "stream",
     "text": [
      "Ratio of missing values: industry    0.0\n",
      "water       0.0\n",
      "dwelling    0.0\n",
      "power       0.0\n",
      "dtype: float64.\n"
     ]
    }
   ],
   "source": [
    "ordinal_nona = ordinal.fillna(ordinal_mode_dict, inplace=False)\n",
    "print(f\"Ratio of missing values: {ordinal_nona.isna().mean()}.\")"
   ]
  },
  {
   "cell_type": "markdown",
   "id": "6a7baad2-b429-4396-8966-dc3923ce2daa",
   "metadata": {},
   "source": [
    "## Average\n",
    "\n",
    "For interval variables, we usually fill the missing values with its average."
   ]
  },
  {
   "cell_type": "code",
   "execution_count": 19,
   "id": "0687fffc-c476-4817-8b82-36ee14f24add",
   "metadata": {},
   "outputs": [
    {
     "data": {
      "text/plain": [
       "fee_edu      5626.629391\n",
       "fee_food    10451.505161\n",
       "members         4.794840\n",
       "sq_field        1.802979\n",
       "sq_house      126.446158\n",
       "income      34720.325348\n",
       "dtype: float64"
      ]
     },
     "execution_count": 19,
     "metadata": {},
     "output_type": "execute_result"
    }
   ],
   "source": [
    "interval = dataset[['fee_edu', 'fee_food', 'members', 'sq_field', 'sq_house', 'income']]\n",
    "interval_avg = interval.mean(axis=0)\n",
    "interval_avg"
   ]
  },
  {
   "cell_type": "code",
   "execution_count": 20,
   "id": "ad50bb0e-9539-496e-b3dc-8f877b59d497",
   "metadata": {},
   "outputs": [
    {
     "data": {
      "text/plain": [
       "{'fee_edu': 5626.629390681003,\n",
       " 'fee_food': 10451.505161290323,\n",
       " 'members': 4.7948395217117685,\n",
       " 'sq_field': 1.802979274611399,\n",
       " 'sq_house': 126.4461579296616,\n",
       " 'income': 34720.325348454964}"
      ]
     },
     "execution_count": 20,
     "metadata": {},
     "output_type": "execute_result"
    }
   ],
   "source": [
    "interval_avg_dict = dict(zip(interval.columns, interval_avg))\n",
    "interval_avg_dict"
   ]
  },
  {
   "cell_type": "code",
   "execution_count": 21,
   "id": "5c3c6e8b-9431-469c-9fdf-d9d966b95b5d",
   "metadata": {},
   "outputs": [
    {
     "name": "stdout",
     "output_type": "stream",
     "text": [
      "Ratio of missing values: fee_edu     0.0\n",
      "fee_food    0.0\n",
      "members     0.0\n",
      "sq_field    0.0\n",
      "sq_house    0.0\n",
      "income      0.0\n",
      "dtype: float64.\n"
     ]
    }
   ],
   "source": [
    "interval_nona = interval.fillna(interval_avg_dict, inplace=False)\n",
    "print(f\"Ratio of missing values: {interval_nona.isna().mean()}.\")"
   ]
  },
  {
   "cell_type": "markdown",
   "id": "34cb0bd7-2eb9-41b2-83a0-520a1bc2fdf3",
   "metadata": {},
   "source": [
    "**Limitation**: How to handle outliers? For example, your village has \\\\$1,000 salary in average. Elon Mask migrates to your village, and the average salary becomes \\\\$80,000.\n",
    "\n",
    "We can remove 5% samples on both side and calculate the average with samples in the middle."
   ]
  },
  {
   "cell_type": "code",
   "execution_count": 80,
   "id": "4749253e-69fe-4a85-b779-35fdeb717c3c",
   "metadata": {},
   "outputs": [
    {
     "data": {
      "text/plain": [
       "{'fee_edu': 5792.729151291513,\n",
       " 'fee_food': 10716.692052980132,\n",
       " 'members': 4.774130006565988,\n",
       " 'sq_field': 1.8509308510638298,\n",
       " 'sq_house': 129.85300613496935,\n",
       " 'income': 35576.90443956786}"
      ]
     },
     "execution_count": 80,
     "metadata": {},
     "output_type": "execute_result"
    }
   ],
   "source": [
    "average_dict = {\n",
    "    col: np.nanmean(np.sort(interval[col])\n",
    "                    [round(0.025 * interval.shape[0]):round(0.975 * interval.shape[0])])\n",
    "    for col in interval.columns\n",
    "}\n",
    "average_dict"
   ]
  },
  {
   "cell_type": "markdown",
   "id": "a474301f-447d-4070-b57e-7ed9cb88fc04",
   "metadata": {},
   "source": [
    "Machine learning ethics: Removing outliers will also remove some special cases, so should we remove all the \"outliers\"?"
   ]
  },
  {
   "cell_type": "markdown",
   "id": "d9fca270-814c-4c73-bb1c-41ce95d1265a",
   "metadata": {},
   "source": [
    "# Encoding\n",
    "\n",
    "So far, we haven't handled nominal variables, which are often text. Since we cannot compare different values, keeping different values in the same column has no meaning.\n",
    "\n",
    "As the solution, we use \"encoding\" to convert them into dummy variables.\n",
    "\n",
    "## One-Hot encoding\n",
    "\n",
    "For example, there are 4 unique values \"A\", \"B\", \"C\", and \"D\" in the column. We convert\n",
    "\n",
    "- \"A\" to $[1, 0, 0, 0]$\n",
    "- \"B\" to $[0, 1, 0, 0]$\n",
    "- \"C\" to $[0, 0, 1, 0]$\n",
    "- \"D\" to $[0, 0, 0, 1]$\n",
    "\n",
    "Theoriotically, missing values should be mapped to $[0, 0, 0, 0]$. In this case, \"community\" has no missing values and \"industry\" [has been filled by its mode](#Mode), so we don't need to consider encoding missing values."
   ]
  },
  {
   "cell_type": "code",
   "execution_count": 23,
   "id": "3113f8f0-1715-44d4-b917-cb05ad52d0e7",
   "metadata": {},
   "outputs": [
    {
     "data": {
      "text/plain": [
       "<1603x26 sparse matrix of type '<class 'numpy.float64'>'\n",
       "\twith 3206 stored elements in Compressed Sparse Row format>"
      ]
     },
     "execution_count": 23,
     "metadata": {},
     "output_type": "execute_result"
    }
   ],
   "source": [
    "from sklearn.preprocessing import OneHotEncoder\n",
    "\n",
    "oh = OneHotEncoder()\n",
    "nominal = dataset[['community', 'industry']]\n",
    "nominal_1h = oh.fit_transform(nominal)\n",
    "nominal_1h"
   ]
  },
  {
   "cell_type": "markdown",
   "id": "5f987aa6-f84a-443c-85df-c6bf803d66f6",
   "metadata": {},
   "source": [
    "**Limitation**: the dataset becomes sparse. For example, the community and industry together has 26 unique values. Originally we have 26 independent variables but now we have 50.\n",
    "\n",
    "[Curse of dimensionality](https://en.wikipedia.org/wiki/Curse_of_dimensionality)\n",
    "\n",
    "How to solve? We use \"target encoding\", which maps the unique values to its ratio of appearance."
   ]
  },
  {
   "cell_type": "markdown",
   "id": "5f17fad5-84c5-4abc-a33a-55b102d00fd0",
   "metadata": {},
   "source": [
    "## Target encoding\n",
    "\n",
    "For example, we have 60% \"students\", 30% \"workers\", and 10% \"farmers\" in a column. We map\n",
    "\n",
    "- \"students\" to 0.6\n",
    "- \"workers\" to 0.3\n",
    "- \"farmers\" to 0.1\n",
    "\n",
    "Now, it's numeric and larger value means more common case. Whether the case is common becomes the information to predict the dependent variable."
   ]
  },
  {
   "cell_type": "code",
   "execution_count": 24,
   "id": "84708be1-9120-4b42-8a3f-963213c01163",
   "metadata": {},
   "outputs": [
    {
     "data": {
      "text/plain": [
       "{'community': {'AoShang': 0.11166562694946974,\n",
       "  'BaiMa': 0.043668122270742356,\n",
       "  'BeiLiu': 0.040548970679975045,\n",
       "  'ChangZhou': 0.006238303181534623,\n",
       "  'ChengShang': 0.049282595134123516,\n",
       "  'FangZhou': 0.061759201497192766,\n",
       "  'HeTang': 0.11291328758577666,\n",
       "  'LiuHang': 0.0031191515907673115,\n",
       "  'LiuJing': 0.037429819089207735,\n",
       "  'MaBu': 0.047411104179663134,\n",
       "  'PingZheng': 0.0330630068621335,\n",
       "  'QiaoYin': 0.02994385527136619,\n",
       "  'ShiWo': 0.11915159076731129,\n",
       "  'XinWei': 0.03867747972551466,\n",
       "  'YaLang': 0.021210230817217717,\n",
       "  'ZhangXi': 0.044915782907049284,\n",
       "  'ZhangZhou': 0.09107922645040549,\n",
       "  'ZhongCun': 0.10480349344978165,\n",
       "  'ZhongLin': 0.0031191515907673115},\n",
       " 'industry': {'agriculture': 0.678727386150967,\n",
       "  'business': 0.035558328134747345,\n",
       "  'government': 0.0018714909544603868,\n",
       "  'manufacture': 0.16469120399251402,\n",
       "  'no-work': 0.08234560199625701,\n",
       "  'student': 0.0031191515907673115}}"
      ]
     },
     "execution_count": 24,
     "metadata": {},
     "output_type": "execute_result"
    }
   ],
   "source": [
    "frequency_dict = dict()\n",
    "for col in nominal.columns:\n",
    "    content, frequency = np.unique(nominal.loc[~nominal[col].isna(), col], return_counts=True)\n",
    "    frequency = frequency / max(nominal.shape[0], 1)\n",
    "    frequency_dict[col] = dict(zip(content, frequency))\n",
    "frequency_dict"
   ]
  },
  {
   "cell_type": "code",
   "execution_count": 25,
   "id": "23c4ef38-a004-4afc-8bed-9be2d291570b",
   "metadata": {},
   "outputs": [
    {
     "data": {
      "text/html": [
       "<div>\n",
       "<style scoped>\n",
       "    .dataframe tbody tr th:only-of-type {\n",
       "        vertical-align: middle;\n",
       "    }\n",
       "\n",
       "    .dataframe tbody tr th {\n",
       "        vertical-align: top;\n",
       "    }\n",
       "\n",
       "    .dataframe thead th {\n",
       "        text-align: right;\n",
       "    }\n",
       "</style>\n",
       "<table border=\"1\" class=\"dataframe\">\n",
       "  <thead>\n",
       "    <tr style=\"text-align: right;\">\n",
       "      <th></th>\n",
       "      <th>community</th>\n",
       "      <th>industry</th>\n",
       "    </tr>\n",
       "  </thead>\n",
       "  <tbody>\n",
       "    <tr>\n",
       "      <th>0</th>\n",
       "      <td>0.104803</td>\n",
       "      <td>0.164691</td>\n",
       "    </tr>\n",
       "    <tr>\n",
       "      <th>1</th>\n",
       "      <td>0.104803</td>\n",
       "      <td>0.164691</td>\n",
       "    </tr>\n",
       "    <tr>\n",
       "      <th>2</th>\n",
       "      <td>0.104803</td>\n",
       "      <td>0.678727</td>\n",
       "    </tr>\n",
       "    <tr>\n",
       "      <th>3</th>\n",
       "      <td>0.104803</td>\n",
       "      <td>0.035558</td>\n",
       "    </tr>\n",
       "    <tr>\n",
       "      <th>4</th>\n",
       "      <td>0.104803</td>\n",
       "      <td>0.678727</td>\n",
       "    </tr>\n",
       "    <tr>\n",
       "      <th>...</th>\n",
       "      <td>...</td>\n",
       "      <td>...</td>\n",
       "    </tr>\n",
       "    <tr>\n",
       "      <th>1598</th>\n",
       "      <td>0.043668</td>\n",
       "      <td>0.164691</td>\n",
       "    </tr>\n",
       "    <tr>\n",
       "      <th>1599</th>\n",
       "      <td>0.043668</td>\n",
       "      <td>0.003119</td>\n",
       "    </tr>\n",
       "    <tr>\n",
       "      <th>1600</th>\n",
       "      <td>0.043668</td>\n",
       "      <td>0.678727</td>\n",
       "    </tr>\n",
       "    <tr>\n",
       "      <th>1601</th>\n",
       "      <td>0.043668</td>\n",
       "      <td>0.164691</td>\n",
       "    </tr>\n",
       "    <tr>\n",
       "      <th>1602</th>\n",
       "      <td>0.043668</td>\n",
       "      <td>0.164691</td>\n",
       "    </tr>\n",
       "  </tbody>\n",
       "</table>\n",
       "<p>1603 rows × 2 columns</p>\n",
       "</div>"
      ],
      "text/plain": [
       "      community  industry\n",
       "0      0.104803  0.164691\n",
       "1      0.104803  0.164691\n",
       "2      0.104803  0.678727\n",
       "3      0.104803  0.035558\n",
       "4      0.104803  0.678727\n",
       "...         ...       ...\n",
       "1598   0.043668  0.164691\n",
       "1599   0.043668  0.003119\n",
       "1600   0.043668  0.678727\n",
       "1601   0.043668  0.164691\n",
       "1602   0.043668  0.164691\n",
       "\n",
       "[1603 rows x 2 columns]"
      ]
     },
     "execution_count": 25,
     "metadata": {},
     "output_type": "execute_result"
    }
   ],
   "source": [
    "nominal_nona = nominal.copy()\n",
    "for col in nominal.columns:\n",
    "    nominal_nona[col] = nominal[col].apply(frequency_dict[col].get, convert_dtype='float32')\n",
    "nominal_nona"
   ]
  },
  {
   "cell_type": "markdown",
   "id": "685b6372-2f75-4da8-8578-2c0beeb0a111",
   "metadata": {
    "tags": []
   },
   "source": [
    "# Pipeline\n",
    "\n",
    "Put everything together. `sklearn` provides a tool, `TransformerMixin`, which can help us wrap up pre-processing steps.\n",
    "\n",
    "We mainly use three functions:\n",
    "\n",
    "- `__init__` defines the parameters we used in the step.\n",
    "- `fit` defines the parameters related to the distribution of the training set.\n",
    "- `transform` defines how to apply these parameters to any dataset and perform the pre-processing.\n",
    "\n",
    "The tool automatically generate the `fit_transform` function, where it runs `fit` and `transform` in a sequence.\n",
    "\n",
    "We should apply `fit_transform` on the training set and only `transform` on the testing set.\n"
   ]
  },
  {
   "cell_type": "code",
   "execution_count": 26,
   "id": "b8e62798-f4ad-46a7-8d81-5db35163f329",
   "metadata": {},
   "outputs": [],
   "source": [
    "from sklearn.base import TransformerMixin\n",
    "\n",
    "\n",
    "class TargetEncoder(TransformerMixin):\n",
    "    def __init__(self, cols=None):\n",
    "        self.cols = cols\n",
    "        self.frequency_dict = dict()\n",
    "\n",
    "    def fit(self, x, *args, **kwargs):\n",
    "        for col in self.cols:\n",
    "            content, frequency = np.unique(x.loc[~x[col].isna(), col], return_counts=True)\n",
    "            frequency = frequency / max(x.shape[0], 1)\n",
    "            self.frequency_dict[col] = dict(zip(content, frequency))\n",
    "        return self\n",
    "\n",
    "    def transform(self, x, *args, **kwargs):\n",
    "        x_ = x.copy()\n",
    "        for col in self.cols:\n",
    "            x_[col] = x_[col].apply(lambda val: self.frequency_dict[col].get(val), convert_dtype='float32')\n",
    "        return x_\n",
    "\n",
    "    \n",
    "class FillingMode(TransformerMixin):\n",
    "    def __init__(self, cols=None):\n",
    "        self.cols = cols\n",
    "        self.mode_dict = dict()\n",
    "    \n",
    "    def fit(self, x, *args, **kwargs):\n",
    "        x_mode = mode(x, axis=0)\n",
    "        self.mode_dict = dict(zip(x.columns, x_mode.mode.flatten()))\n",
    "        return self\n",
    "    \n",
    "    def transform(self, x, *args, **kwargs):\n",
    "        x_ = x.copy()\n",
    "        x_[self.cols] = x[self.cols].fillna(self.mode_dict)\n",
    "        return x_\n",
    "\n",
    "class FillingAverage(TransformerMixin):\n",
    "    def __init__(self, cols):\n",
    "        self.cols = cols\n",
    "        self.average_dict = {}\n",
    "\n",
    "    def fit(self, x, *args, **kwargs):\n",
    "        average_all = np.nanmean(x[self.cols], axis=0)\n",
    "        self.average_dict = dict(zip(self.cols, average_all))\n",
    "        return self\n",
    "\n",
    "    def transform(self, x, *args, **kwargs):\n",
    "        x_ = x.copy()\n",
    "        x_[self.cols] = x[self.cols].fillna(self.average_dict)\n",
    "        return x_\n",
    "\n",
    "class FillingForward(TransformerMixin):\n",
    "    def __init__(self, cols):\n",
    "        self.cols = cols\n",
    "    \n",
    "    def fit(self, x, *args, **kwargs):\n",
    "        return self\n",
    "    \n",
    "    def transform(self, x, *args, **kwargs):\n",
    "        x_ = x.copy()\n",
    "        x_[self.cols] = x[self.cols].fillna(method='ffill')\n",
    "        return x_\n",
    "\n",
    "\n",
    "class FillingAverageWithoutExtreme(FillingAverage):\n",
    "    def __init__(self, cols, lower_pct=.05, upper_pct=.95):\n",
    "        super(FillingAverageWithoutExtreme, self).__init__(cols)\n",
    "        self.lower_pct = lower_pct\n",
    "        self.upper_pct = upper_pct\n",
    "\n",
    "    def fit(self, x, *args, **kwargs):\n",
    "        n = x.shape[0]\n",
    "        self.average_dict = {\n",
    "            col: np.nanmean(np.sort(x[col])[round(self.lower_pct * n):round(self.upper_pct * n)])\n",
    "            for col in self.cols\n",
    "        }\n",
    "        return self\n",
    "\n",
    "    \n",
    "class FillingZero(TransformerMixin):\n",
    "    def __init__(self, cols, zero=0):\n",
    "        self.cols = cols\n",
    "        self.zero = zero\n",
    "\n",
    "    def fit(self, x, *args, **kwargs): return self\n",
    "\n",
    "    def transform(self, x, *args, **kwargs):\n",
    "        x_ = x.copy()\n",
    "        x_[self.cols] = x[self.cols].fillna(self.zero)\n",
    "        return x_"
   ]
  },
  {
   "cell_type": "markdown",
   "id": "e3def62e-1b18-4c75-b336-0478163720e0",
   "metadata": {},
   "source": [
    "Define the routine."
   ]
  },
  {
   "cell_type": "code",
   "execution_count": 27,
   "id": "25598c2f-3a44-422c-877d-d4531ed7ffb3",
   "metadata": {},
   "outputs": [],
   "source": [
    "from sklearn.pipeline import Pipeline\n",
    "\n",
    "x_transformer = Pipeline([\n",
    "    ('fill_forward', FillingForward(cols=['traffic'])),\n",
    "    ('fill_0', FillingZero(cols=['policy1', 'policy2', 'policy3', 'policy4', 'policy5', 'policy6', \n",
    "                                 'policy_ot', 'fee_med', 'fee_ent', 'fee_fin', 'sq_pool', \n",
    "                                 'sq_forest', 'sq_fruit', 'sq_other'])),\n",
    "    ('fill_mode', FillingMode(cols=['industry', 'water', 'dwelling', 'power'])),\n",
    "    ('fill_avg', FillingAverageWithoutExtreme(cols=['fee_edu', 'fee_food', 'members', \n",
    "                                                    'sq_field', 'sq_house', 'income'])),\n",
    "    ('encoding', TargetEncoder(cols=['community', 'industry']))\n",
    "])"
   ]
  },
  {
   "cell_type": "markdown",
   "id": "123dbb5b-fca2-4c8b-9c52-42a61bf1684b",
   "metadata": {},
   "source": [
    "Apply the routine on the training set and observe the result."
   ]
  },
  {
   "cell_type": "code",
   "execution_count": 28,
   "id": "a1d5e144-aa38-4ddb-8c2b-c886296f3375",
   "metadata": {},
   "outputs": [],
   "source": [
    "x_train_clean = x_transformer.fit_transform(x_train)"
   ]
  },
  {
   "cell_type": "markdown",
   "id": "9b974fd2-b8c7-421b-8173-a4fc6ba4fcac",
   "metadata": {},
   "source": [
    "Generate the profile for the clean training set."
   ]
  },
  {
   "cell_type": "code",
   "execution_count": 29,
   "id": "caedb05d-84b2-43c1-91cd-eb1e0c81a889",
   "metadata": {},
   "outputs": [
    {
     "data": {
      "application/vnd.jupyter.widget-view+json": {
       "model_id": "f14d17ffa7604b52b07f97174679e63e",
       "version_major": 2,
       "version_minor": 0
      },
      "text/plain": [
       "Summarize dataset:   0%|          | 0/5 [00:00<?, ?it/s]"
      ]
     },
     "metadata": {},
     "output_type": "display_data"
    },
    {
     "data": {
      "application/vnd.jupyter.widget-view+json": {
       "model_id": "ebf29c274f68403d934ce326932abbcf",
       "version_major": 2,
       "version_minor": 0
      },
      "text/plain": [
       "Generate report structure:   0%|          | 0/1 [00:00<?, ?it/s]"
      ]
     },
     "metadata": {},
     "output_type": "display_data"
    },
    {
     "data": {
      "application/vnd.jupyter.widget-view+json": {
       "model_id": "766a969ed5e44904b980cc9e34793e23",
       "version_major": 2,
       "version_minor": 0
      },
      "text/plain": [
       "Render HTML:   0%|          | 0/1 [00:00<?, ?it/s]"
      ]
     },
     "metadata": {},
     "output_type": "display_data"
    }
   ],
   "source": [
    "profile = ProfileReport(x_train_clean, title='China Poverty 2018 - Clean training', \n",
    "                        plot={'dpi': 200, 'image_format': 'png'}, interactions=None)\n",
    "profile = profile.to_html()\n",
    "pd.to_pickle(profile, 'results/poverty_clean_training_report.html')"
   ]
  },
  {
   "cell_type": "markdown",
   "id": "838f42b5-1a25-4a6a-839b-c1e1c21030d7",
   "metadata": {},
   "source": [
    "**One more step**: the scale or range of the dataset is vary. We should do standardization or zipping before modeling."
   ]
  },
  {
   "cell_type": "markdown",
   "id": "3b2c84b2-2345-4b29-a0a5-e651abafd3fe",
   "metadata": {
    "tags": []
   },
   "source": [
    "# Standardization and zipping\n",
    "\n",
    "Standardization assumes independent variables are Gaussian distributed. It applies a linear transformation for each column:\n",
    "\n",
    "$$\n",
    "x' = \\frac{x - \\bar x}{\\sigma_x}\n",
    "$$\n",
    "\n",
    "Zipping assumes independent variables are uniformly distributed from 0 to 1. It applies a linear transformation for each column:\n",
    "\n",
    "$$\n",
    "x' = \\frac{x - \\min x}{\\max x - \\min x}\n",
    "$$\n",
    "\n",
    "We add the zipping to the pipeline. \n",
    "\n",
    "**Causion**: Using standardization or zipping will make the dataset loses its column name."
   ]
  },
  {
   "cell_type": "code",
   "execution_count": 30,
   "id": "e3f39d79-d99f-464f-8aac-dc7bd9d5c2c0",
   "metadata": {},
   "outputs": [],
   "source": [
    "from sklearn.preprocessing import StandardScaler\n",
    "\n",
    "x_transformer = Pipeline([\n",
    "    ('fill_forward', FillingForward(cols=['traffic'])),\n",
    "    ('fill_0', FillingZero(cols=['policy1', 'policy2', 'policy3', 'policy4', 'policy5', 'policy6', \n",
    "                                 'policy_ot', 'fee_med', 'fee_ent', 'fee_fin', 'sq_pool', \n",
    "                                 'sq_forest', 'sq_fruit', 'sq_other'])),\n",
    "    ('fill_mode', FillingMode(cols=['industry', 'water', 'dwelling', 'power'])),\n",
    "    ('fill_avg', FillingAverageWithoutExtreme(cols=['fee_edu', 'fee_food', 'members', \n",
    "                                                    'sq_field', 'sq_house', 'income'])),\n",
    "    ('encoding', TargetEncoder(cols=['community', 'industry'])),\n",
    "    ('standardization', StandardScaler()),\n",
    "])\n",
    "x_train_std = x_transformer.fit_transform(x_train)\n",
    "x_test_std = x_transformer.transform(x_test)"
   ]
  },
  {
   "cell_type": "markdown",
   "id": "01e4b168-060a-4d2e-a489-0ad795b3e9d8",
   "metadata": {},
   "source": [
    "The mean of training set should always be 0, and the standard deviation should always be 1."
   ]
  },
  {
   "cell_type": "code",
   "execution_count": 31,
   "id": "f56a23e1-97f4-46d8-8367-58dabae4799f",
   "metadata": {},
   "outputs": [
    {
     "data": {
      "text/plain": [
       "array([ 1.36531106e-16, -3.34065473e-17, -1.74295029e-16, -2.32393372e-17,\n",
       "       -5.80983431e-18, -7.26229288e-18,  2.78872047e-16, -8.85999732e-17,\n",
       "        7.55278460e-17, -8.71475146e-18,  8.13376803e-17,  2.32393372e-17,\n",
       "        1.74295029e-17,  9.29573489e-17,  2.67252378e-16, -3.48590058e-17,\n",
       "        1.51055692e-16, -1.13291769e-16, -5.37409673e-17,  2.90491715e-17,\n",
       "        6.17294895e-17, -1.01672100e-16,  4.93835916e-17,  1.45245858e-18,\n",
       "       -6.68130945e-17, -1.26363896e-16])"
      ]
     },
     "execution_count": 31,
     "metadata": {},
     "output_type": "execute_result"
    }
   ],
   "source": [
    "np.mean(x_train_std, axis=0)"
   ]
  },
  {
   "cell_type": "code",
   "execution_count": 32,
   "id": "ef41963e-b6ab-43c9-a816-0e53f6448f95",
   "metadata": {},
   "outputs": [
    {
     "data": {
      "text/plain": [
       "array([1., 1., 1., 1., 1., 1., 1., 1., 1., 1., 1., 1., 1., 1., 1., 1., 1.,\n",
       "       1., 1., 1., 1., 1., 1., 1., 1., 1.])"
      ]
     },
     "execution_count": 32,
     "metadata": {},
     "output_type": "execute_result"
    }
   ],
   "source": [
    "np.std(x_train_std, axis=0)"
   ]
  },
  {
   "cell_type": "markdown",
   "id": "eba2d690-ea5f-44a3-a659-6d6b5fa4a52a",
   "metadata": {},
   "source": [
    "However, the distribution of the validation set is slightly different."
   ]
  },
  {
   "cell_type": "code",
   "execution_count": 33,
   "id": "8a65dfeb-5c85-4351-8c27-3769e4362547",
   "metadata": {},
   "outputs": [
    {
     "data": {
      "text/plain": [
       "array([-0.01247546,  0.07805951,  0.04383411,  0.11305446, -0.02040489,\n",
       "       -0.02362854,  0.03877064,  0.0783948 ,  0.08804301, -0.00258019,\n",
       "        0.0973117 , -0.07849547, -0.05583531,  0.08848899, -0.06828333,\n",
       "       -0.0230707 ,  0.11386235,  0.02996159, -0.07364137, -0.07297573,\n",
       "        0.02368362, -0.02745136, -0.03144736, -0.06016504, -0.05251994,\n",
       "        0.05129009])"
      ]
     },
     "execution_count": 33,
     "metadata": {},
     "output_type": "execute_result"
    }
   ],
   "source": [
    "np.mean(x_test_std, axis=0)"
   ]
  },
  {
   "cell_type": "code",
   "execution_count": 34,
   "id": "07ea7bc1-4464-48b4-9609-b9fd7ecdf874",
   "metadata": {},
   "outputs": [
    {
     "data": {
      "text/plain": [
       "array([1.02098338, 1.08506076, 1.09423822, 1.43042082, 0.70420898,\n",
       "       0.59951517, 1.02489207, 0.95940371, 1.27319808, 0.91996793,\n",
       "       1.35660244, 0.54945757, 0.07422967, 1.01623907, 0.78425009,\n",
       "       0.99655483, 1.18556774, 0.93366275, 0.76038062, 0.93842077,\n",
       "       0.99841887, 1.01857124, 0.92862394, 0.95528405, 0.91811276,\n",
       "       1.00390863])"
      ]
     },
     "execution_count": 34,
     "metadata": {},
     "output_type": "execute_result"
    }
   ],
   "source": [
    "np.std(x_test_std, axis=0)"
   ]
  },
  {
   "cell_type": "markdown",
   "id": "a271476b-5f50-4d4b-a6cf-998d1e43a00c",
   "metadata": {},
   "source": [
    "Until now, the outputed dataset can be used for modeling."
   ]
  },
  {
   "cell_type": "markdown",
   "id": "a28f14d7-0712-4318-80c4-7f184c9cb562",
   "metadata": {},
   "source": [
    "# Correlation\n",
    "\n",
    "Usually, we use Pearson correlation to represent the relationship between variables.\n",
    "\n",
    "It ranges from -1 to 1.\n",
    "\n",
    "- Close to 1 means two variables are positively correlated\n",
    "- Close to 0 means two variables have no correlation\n",
    "- Close to -1 means two variables are negatively correlated\n",
    "\n",
    "**Probability theory**: What is the relationship between \"independent\" and \"no correlation\"?\n",
    "\n",
    "We should not use highly correlated variables because of multicolinearity.\n",
    "\n",
    "## Multicolinearity\n",
    "\n",
    "An example of the harm of multicolinearity."
   ]
  },
  {
   "cell_type": "code",
   "execution_count": 35,
   "id": "d5ec69b8-b21f-4c58-b3d6-92dc88fb4d97",
   "metadata": {},
   "outputs": [
    {
     "data": {
      "text/plain": [
       "array([33.89571528, 35.49260505])"
      ]
     },
     "execution_count": 35,
     "metadata": {},
     "output_type": "execute_result"
    }
   ],
   "source": [
    "from sklearn.datasets import make_regression\n",
    "from sklearn.linear_model import LinearRegression\n",
    "\n",
    "x1, y1 = make_regression(n_features=2, n_samples=100, noise=20, random_state=403)\n",
    "lr = LinearRegression()\n",
    "lr.fit(x1, y1)\n",
    "lr.coef_"
   ]
  },
  {
   "cell_type": "markdown",
   "id": "cb6bbb5c-1039-4a24-8550-e6806e7f9f98",
   "metadata": {},
   "source": [
    "Add a correlated new feature, and the coefficients change a lot. It will do harm to the interpretation of the model and increase the sensitivity to noise."
   ]
  },
  {
   "cell_type": "code",
   "execution_count": 36,
   "id": "495f7844-a08f-431d-a79d-794c679ce738",
   "metadata": {},
   "outputs": [
    {
     "data": {
      "text/plain": [
       "array([ 3.39887266e+01, -4.92505997e+13,  5.47228885e+13])"
      ]
     },
     "execution_count": 36,
     "metadata": {},
     "output_type": "execute_result"
    }
   ],
   "source": [
    "rng = np.random.default_rng(seed=403)\n",
    "new_feature = x1[:, 1] * 0.9 + rng.normal(x1.shape[0]) * 5\n",
    "x2 = np.hstack([x1, new_feature[:, np.newaxis]])\n",
    "lr.fit(x2, y1)\n",
    "lr.coef_"
   ]
  },
  {
   "cell_type": "markdown",
   "id": "d087a366-9255-4226-87f7-655819e91ca8",
   "metadata": {},
   "source": [
    "## VIF\n",
    "\n",
    "We can use Variance Inflation Factor (VIF) to measure the amount of multicollinearity in a set of multiple regression variables.\n",
    "\n",
    "$$\n",
    "V = \\mathrm{diag}(C^{-1})\n",
    "$$\n",
    "where $C$ is the correlation matrix."
   ]
  },
  {
   "cell_type": "code",
   "execution_count": 37,
   "id": "e1d10ea1-055b-4116-88da-6b624d41cb26",
   "metadata": {},
   "outputs": [
    {
     "data": {
      "text/plain": [
       "{'community': 1377323898366518.5,\n",
       " 'fee_edu': -1540336977621785.0,\n",
       " 'fee_food': 5729226118696907.0,\n",
       " 'fee_med': 3615631660563426.5,\n",
       " 'fee_ent': 1512605483032545.2,\n",
       " 'fee_fin': 3164251838752740.0,\n",
       " 'members': 2372051309782370.0,\n",
       " 'industry': -906550977976954.9,\n",
       " 'sq_field': -4421816436573456.0,\n",
       " 'sq_pool': -316206226445347.94,\n",
       " 'sq_forest': -1037998308748150.4,\n",
       " 'sq_fruit': -1031495106938329.1,\n",
       " 'sq_other': -3527835204541130.5,\n",
       " 'water': 1279373359477315.2,\n",
       " 'dwelling': 5424728438582815.0,\n",
       " 'power': 223855763816941.16,\n",
       " 'sq_house': 69378791046801.91,\n",
       " 'traffic': 9370561611980388.0,\n",
       " 'policy1': -421849178776476.2,\n",
       " 'policy2': 103829911099841.06,\n",
       " 'policy3': 1045313141578619.4,\n",
       " 'policy4': 94994331179362.38,\n",
       " 'policy5': 422876775202434.4,\n",
       " 'policy6': 697084280941660.4,\n",
       " 'policy_ot': 1701452019973.865,\n",
       " 'income': -116389297422629.67}"
      ]
     },
     "execution_count": 37,
     "metadata": {},
     "output_type": "execute_result"
    }
   ],
   "source": [
    "# Remove duplicate rows\n",
    "v1 = np.vstack(list(set(tuple(row) for row in x_train_std)))\n",
    "# Calculate VIF\n",
    "vif = np.linalg.inv(np.corrcoef(v1)).diagonal()\n",
    "dict(zip(x.columns, vif))"
   ]
  },
  {
   "cell_type": "markdown",
   "id": "c181c609-26c5-4da8-993e-40540468377a",
   "metadata": {},
   "source": [
    "Empirically, VIF > 10 means the variable has multicolinearity.\n",
    "\n",
    "The result shows the data quality in this dataset is low."
   ]
  },
  {
   "cell_type": "markdown",
   "id": "b12d86fd-39f0-4305-839d-81e5588c4170",
   "metadata": {
    "tags": []
   },
   "source": [
    "# Cross validation\n",
    "\n",
    "We sometimes need to tune hyper-parameters, but only the training and testing set are not enough.\n",
    "\n",
    "## Optimization bias\n",
    "\n",
    "Example: You guess 10 questions in a exam, each of which has 4 choices.\n",
    "\n",
    "- How many scores are you expected to get?\n",
    "- If you take 10 exams, and preserve the best score. How many scores are you expected to get?\n",
    "- If you take 1000 exams, and preserve the best score. How many scores are you expected to get?\n",
    "- If you take 1 billion exams, and preserve the best score. How many scores are you expected to get?\n",
    "\n",
    "When you repeat testing your model with different hyper-parameters, you are driven into a similar problem.\n",
    "\n",
    "We use cross validation to split the training set into 5 folds, 4 of which are training set and the remained 1 is validation set.\n",
    "\n",
    "## 5-fold\n",
    "\n",
    "We should always wrap up 5-fold cross validation with both the data pre-processing and the classification."
   ]
  },
  {
   "cell_type": "code",
   "execution_count": null,
   "id": "6eacfb00-4662-439c-8c59-019282fa4a28",
   "metadata": {
    "scrolled": true,
    "tags": []
   },
   "outputs": [
    {
     "name": "stderr",
     "output_type": "stream",
     "text": [
      "/home/cld/.conda/envs/tf5/lib/python3.9/site-packages/sklearn/model_selection/_validation.py:776: UserWarning: Scoring failed. The score on this train-test partition for these parameters will be set to nan. Details: \n",
      "Traceback (most recent call last):\n",
      "  File \"/home/cld/.conda/envs/tf5/lib/python3.9/site-packages/sklearn/model_selection/_validation.py\", line 767, in _score\n",
      "    scores = scorer(estimator, X_test, y_test)\n",
      "  File \"/home/cld/.conda/envs/tf5/lib/python3.9/site-packages/sklearn/metrics/_scorer.py\", line 429, in _passthrough_scorer\n",
      "    return estimator.score(*args, **kwargs)\n",
      "  File \"/home/cld/.conda/envs/tf5/lib/python3.9/site-packages/sklearn/pipeline.py\", line 699, in score\n",
      "    return self.steps[-1][1].score(Xt, y, **score_params)\n",
      "  File \"/home/cld/.conda/envs/tf5/lib/python3.9/site-packages/sklearn/base.py\", line 666, in score\n",
      "    return accuracy_score(y, self.predict(X), sample_weight=sample_weight)\n",
      "  File \"/home/cld/.conda/envs/tf5/lib/python3.9/site-packages/sklearn/tree/_classes.py\", line 505, in predict\n",
      "    X = self._validate_X_predict(X, check_input)\n",
      "  File \"/home/cld/.conda/envs/tf5/lib/python3.9/site-packages/sklearn/tree/_classes.py\", line 471, in _validate_X_predict\n",
      "    X = self._validate_data(X, dtype=DTYPE, accept_sparse=\"csr\", reset=False)\n",
      "  File \"/home/cld/.conda/envs/tf5/lib/python3.9/site-packages/sklearn/base.py\", line 577, in _validate_data\n",
      "    X = check_array(X, input_name=\"X\", **check_params)\n",
      "  File \"/home/cld/.conda/envs/tf5/lib/python3.9/site-packages/sklearn/utils/validation.py\", line 895, in check_array\n",
      "    _assert_all_finite(\n",
      "  File \"/home/cld/.conda/envs/tf5/lib/python3.9/site-packages/sklearn/utils/validation.py\", line 142, in _assert_all_finite\n",
      "    raise ValueError(msg_err)\n",
      "ValueError: Input X contains NaN.\n",
      "DecisionTreeClassifier does not accept missing values encoded as NaN natively. For supervised learning, you might want to consider sklearn.ensemble.HistGradientBoostingClassifier and Regressor which accept missing values encoded as NaNs natively. Alternatively, it is possible to preprocess the data, for instance by using an imputer transformer in a pipeline or drop samples with missing values. See https://scikit-learn.org/stable/modules/impute.html\n",
      "\n",
      "  warnings.warn(\n",
      "/home/cld/.conda/envs/tf5/lib/python3.9/site-packages/sklearn/model_selection/_validation.py:776: UserWarning: Scoring failed. The score on this train-test partition for these parameters will be set to nan. Details: \n",
      "Traceback (most recent call last):\n",
      "  File \"/home/cld/.conda/envs/tf5/lib/python3.9/site-packages/sklearn/model_selection/_validation.py\", line 767, in _score\n",
      "    scores = scorer(estimator, X_test, y_test)\n",
      "  File \"/home/cld/.conda/envs/tf5/lib/python3.9/site-packages/sklearn/metrics/_scorer.py\", line 429, in _passthrough_scorer\n",
      "    return estimator.score(*args, **kwargs)\n",
      "  File \"/home/cld/.conda/envs/tf5/lib/python3.9/site-packages/sklearn/pipeline.py\", line 699, in score\n",
      "    return self.steps[-1][1].score(Xt, y, **score_params)\n",
      "  File \"/home/cld/.conda/envs/tf5/lib/python3.9/site-packages/sklearn/base.py\", line 666, in score\n",
      "    return accuracy_score(y, self.predict(X), sample_weight=sample_weight)\n",
      "  File \"/home/cld/.conda/envs/tf5/lib/python3.9/site-packages/sklearn/tree/_classes.py\", line 505, in predict\n",
      "    X = self._validate_X_predict(X, check_input)\n",
      "  File \"/home/cld/.conda/envs/tf5/lib/python3.9/site-packages/sklearn/tree/_classes.py\", line 471, in _validate_X_predict\n",
      "    X = self._validate_data(X, dtype=DTYPE, accept_sparse=\"csr\", reset=False)\n",
      "  File \"/home/cld/.conda/envs/tf5/lib/python3.9/site-packages/sklearn/base.py\", line 577, in _validate_data\n",
      "    X = check_array(X, input_name=\"X\", **check_params)\n",
      "  File \"/home/cld/.conda/envs/tf5/lib/python3.9/site-packages/sklearn/utils/validation.py\", line 895, in check_array\n",
      "    _assert_all_finite(\n",
      "  File \"/home/cld/.conda/envs/tf5/lib/python3.9/site-packages/sklearn/utils/validation.py\", line 142, in _assert_all_finite\n",
      "    raise ValueError(msg_err)\n",
      "ValueError: Input X contains NaN.\n",
      "DecisionTreeClassifier does not accept missing values encoded as NaN natively. For supervised learning, you might want to consider sklearn.ensemble.HistGradientBoostingClassifier and Regressor which accept missing values encoded as NaNs natively. Alternatively, it is possible to preprocess the data, for instance by using an imputer transformer in a pipeline or drop samples with missing values. See https://scikit-learn.org/stable/modules/impute.html\n",
      "\n",
      "  warnings.warn(\n",
      "/home/cld/.conda/envs/tf5/lib/python3.9/site-packages/sklearn/model_selection/_search.py:953: UserWarning: One or more of the test scores are non-finite: [nan nan]\n",
      "  warnings.warn(\n"
     ]
    },
    {
     "data": {
      "text/html": [
       "<style>#sk-container-id-2 {color: black;background-color: white;}#sk-container-id-2 pre{padding: 0;}#sk-container-id-2 div.sk-toggleable {background-color: white;}#sk-container-id-2 label.sk-toggleable__label {cursor: pointer;display: block;width: 100%;margin-bottom: 0;padding: 0.3em;box-sizing: border-box;text-align: center;}#sk-container-id-2 label.sk-toggleable__label-arrow:before {content: \"▸\";float: left;margin-right: 0.25em;color: #696969;}#sk-container-id-2 label.sk-toggleable__label-arrow:hover:before {color: black;}#sk-container-id-2 div.sk-estimator:hover label.sk-toggleable__label-arrow:before {color: black;}#sk-container-id-2 div.sk-toggleable__content {max-height: 0;max-width: 0;overflow: hidden;text-align: left;background-color: #f0f8ff;}#sk-container-id-2 div.sk-toggleable__content pre {margin: 0.2em;color: black;border-radius: 0.25em;background-color: #f0f8ff;}#sk-container-id-2 input.sk-toggleable__control:checked~div.sk-toggleable__content {max-height: 200px;max-width: 100%;overflow: auto;}#sk-container-id-2 input.sk-toggleable__control:checked~label.sk-toggleable__label-arrow:before {content: \"▾\";}#sk-container-id-2 div.sk-estimator input.sk-toggleable__control:checked~label.sk-toggleable__label {background-color: #d4ebff;}#sk-container-id-2 div.sk-label input.sk-toggleable__control:checked~label.sk-toggleable__label {background-color: #d4ebff;}#sk-container-id-2 input.sk-hidden--visually {border: 0;clip: rect(1px 1px 1px 1px);clip: rect(1px, 1px, 1px, 1px);height: 1px;margin: -1px;overflow: hidden;padding: 0;position: absolute;width: 1px;}#sk-container-id-2 div.sk-estimator {font-family: monospace;background-color: #f0f8ff;border: 1px dotted black;border-radius: 0.25em;box-sizing: border-box;margin-bottom: 0.5em;}#sk-container-id-2 div.sk-estimator:hover {background-color: #d4ebff;}#sk-container-id-2 div.sk-parallel-item::after {content: \"\";width: 100%;border-bottom: 1px solid gray;flex-grow: 1;}#sk-container-id-2 div.sk-label:hover label.sk-toggleable__label {background-color: #d4ebff;}#sk-container-id-2 div.sk-serial::before {content: \"\";position: absolute;border-left: 1px solid gray;box-sizing: border-box;top: 0;bottom: 0;left: 50%;z-index: 0;}#sk-container-id-2 div.sk-serial {display: flex;flex-direction: column;align-items: center;background-color: white;padding-right: 0.2em;padding-left: 0.2em;position: relative;}#sk-container-id-2 div.sk-item {position: relative;z-index: 1;}#sk-container-id-2 div.sk-parallel {display: flex;align-items: stretch;justify-content: center;background-color: white;position: relative;}#sk-container-id-2 div.sk-item::before, #sk-container-id-2 div.sk-parallel-item::before {content: \"\";position: absolute;border-left: 1px solid gray;box-sizing: border-box;top: 0;bottom: 0;left: 50%;z-index: -1;}#sk-container-id-2 div.sk-parallel-item {display: flex;flex-direction: column;z-index: 1;position: relative;background-color: white;}#sk-container-id-2 div.sk-parallel-item:first-child::after {align-self: flex-end;width: 50%;}#sk-container-id-2 div.sk-parallel-item:last-child::after {align-self: flex-start;width: 50%;}#sk-container-id-2 div.sk-parallel-item:only-child::after {width: 0;}#sk-container-id-2 div.sk-dashed-wrapped {border: 1px dashed gray;margin: 0 0.4em 0.5em 0.4em;box-sizing: border-box;padding-bottom: 0.4em;background-color: white;}#sk-container-id-2 div.sk-label label {font-family: monospace;font-weight: bold;display: inline-block;line-height: 1.2em;}#sk-container-id-2 div.sk-label-container {text-align: center;}#sk-container-id-2 div.sk-container {/* jupyter's `normalize.less` sets `[hidden] { display: none; }` but bootstrap.min.css set `[hidden] { display: none !important; }` so we also need the `!important` here to be able to override the default hidden behavior on the sphinx rendered scikit-learn.org. See: https://github.com/scikit-learn/scikit-learn/issues/21755 */display: inline-block !important;position: relative;}#sk-container-id-2 div.sk-text-repr-fallback {display: none;}</style><div id=\"sk-container-id-2\" class=\"sk-top-container\"><div class=\"sk-text-repr-fallback\"><pre>GridSearchCV(cv=KFold(n_splits=5, random_state=403, shuffle=True),\n",
       "             estimator=Pipeline(steps=[(&#x27;fill_forward&#x27;,\n",
       "                                        &lt;__main__.FillingForward object at 0x7f659c5b3460&gt;),\n",
       "                                       (&#x27;fill_0&#x27;,\n",
       "                                        &lt;__main__.FillingZero object at 0x7f659c5b3cd0&gt;),\n",
       "                                       (&#x27;fill_mode&#x27;,\n",
       "                                        &lt;__main__.FillingMode object at 0x7f659c5b31f0&gt;),\n",
       "                                       (&#x27;fill_avg&#x27;,\n",
       "                                        &lt;__main__.FillingAverageWithoutExtreme object at 0x7f659c5b3fa0&gt;),\n",
       "                                       (&#x27;encoding&#x27;,\n",
       "                                        &lt;__main__.TargetEncoder object at 0x7f659c5b3940&gt;),\n",
       "                                       (&#x27;standardization&#x27;, StandardScaler()),\n",
       "                                       (&#x27;classifier&#x27;,\n",
       "                                        DecisionTreeClassifier())]),\n",
       "             param_grid={&#x27;classifier__max_depth&#x27;: (2, 20)})</pre><b>In a Jupyter environment, please rerun this cell to show the HTML representation or trust the notebook. <br />On GitHub, the HTML representation is unable to render, please try loading this page with nbviewer.org.</b></div><div class=\"sk-container\" hidden><div class=\"sk-item sk-dashed-wrapped\"><div class=\"sk-label-container\"><div class=\"sk-label sk-toggleable\"><input class=\"sk-toggleable__control sk-hidden--visually\" id=\"sk-estimator-id-10\" type=\"checkbox\" ><label for=\"sk-estimator-id-10\" class=\"sk-toggleable__label sk-toggleable__label-arrow\">GridSearchCV</label><div class=\"sk-toggleable__content\"><pre>GridSearchCV(cv=KFold(n_splits=5, random_state=403, shuffle=True),\n",
       "             estimator=Pipeline(steps=[(&#x27;fill_forward&#x27;,\n",
       "                                        &lt;__main__.FillingForward object at 0x7f659c5b3460&gt;),\n",
       "                                       (&#x27;fill_0&#x27;,\n",
       "                                        &lt;__main__.FillingZero object at 0x7f659c5b3cd0&gt;),\n",
       "                                       (&#x27;fill_mode&#x27;,\n",
       "                                        &lt;__main__.FillingMode object at 0x7f659c5b31f0&gt;),\n",
       "                                       (&#x27;fill_avg&#x27;,\n",
       "                                        &lt;__main__.FillingAverageWithoutExtreme object at 0x7f659c5b3fa0&gt;),\n",
       "                                       (&#x27;encoding&#x27;,\n",
       "                                        &lt;__main__.TargetEncoder object at 0x7f659c5b3940&gt;),\n",
       "                                       (&#x27;standardization&#x27;, StandardScaler()),\n",
       "                                       (&#x27;classifier&#x27;,\n",
       "                                        DecisionTreeClassifier())]),\n",
       "             param_grid={&#x27;classifier__max_depth&#x27;: (2, 20)})</pre></div></div></div><div class=\"sk-parallel\"><div class=\"sk-parallel-item\"><div class=\"sk-item\"><div class=\"sk-label-container\"><div class=\"sk-label sk-toggleable\"><input class=\"sk-toggleable__control sk-hidden--visually\" id=\"sk-estimator-id-11\" type=\"checkbox\" ><label for=\"sk-estimator-id-11\" class=\"sk-toggleable__label sk-toggleable__label-arrow\">estimator: Pipeline</label><div class=\"sk-toggleable__content\"><pre>Pipeline(steps=[(&#x27;fill_forward&#x27;,\n",
       "                 &lt;__main__.FillingForward object at 0x7f659c5b3460&gt;),\n",
       "                (&#x27;fill_0&#x27;, &lt;__main__.FillingZero object at 0x7f659c5b3cd0&gt;),\n",
       "                (&#x27;fill_mode&#x27;, &lt;__main__.FillingMode object at 0x7f659c5b31f0&gt;),\n",
       "                (&#x27;fill_avg&#x27;,\n",
       "                 &lt;__main__.FillingAverageWithoutExtreme object at 0x7f659c5b3fa0&gt;),\n",
       "                (&#x27;encoding&#x27;, &lt;__main__.TargetEncoder object at 0x7f659c5b3940&gt;),\n",
       "                (&#x27;standardization&#x27;, StandardScaler()),\n",
       "                (&#x27;classifier&#x27;, DecisionTreeClassifier())])</pre></div></div></div><div class=\"sk-serial\"><div class=\"sk-item\"><div class=\"sk-serial\"><div class=\"sk-item\"><div class=\"sk-estimator sk-toggleable\"><input class=\"sk-toggleable__control sk-hidden--visually\" id=\"sk-estimator-id-12\" type=\"checkbox\" ><label for=\"sk-estimator-id-12\" class=\"sk-toggleable__label sk-toggleable__label-arrow\">FillingForward</label><div class=\"sk-toggleable__content\"><pre>&lt;__main__.FillingForward object at 0x7f659c5b3460&gt;</pre></div></div></div><div class=\"sk-item\"><div class=\"sk-estimator sk-toggleable\"><input class=\"sk-toggleable__control sk-hidden--visually\" id=\"sk-estimator-id-13\" type=\"checkbox\" ><label for=\"sk-estimator-id-13\" class=\"sk-toggleable__label sk-toggleable__label-arrow\">FillingZero</label><div class=\"sk-toggleable__content\"><pre>&lt;__main__.FillingZero object at 0x7f659c5b3cd0&gt;</pre></div></div></div><div class=\"sk-item\"><div class=\"sk-estimator sk-toggleable\"><input class=\"sk-toggleable__control sk-hidden--visually\" id=\"sk-estimator-id-14\" type=\"checkbox\" ><label for=\"sk-estimator-id-14\" class=\"sk-toggleable__label sk-toggleable__label-arrow\">FillingMode</label><div class=\"sk-toggleable__content\"><pre>&lt;__main__.FillingMode object at 0x7f659c5b31f0&gt;</pre></div></div></div><div class=\"sk-item\"><div class=\"sk-estimator sk-toggleable\"><input class=\"sk-toggleable__control sk-hidden--visually\" id=\"sk-estimator-id-15\" type=\"checkbox\" ><label for=\"sk-estimator-id-15\" class=\"sk-toggleable__label sk-toggleable__label-arrow\">FillingAverageWithoutExtreme</label><div class=\"sk-toggleable__content\"><pre>&lt;__main__.FillingAverageWithoutExtreme object at 0x7f659c5b3fa0&gt;</pre></div></div></div><div class=\"sk-item\"><div class=\"sk-estimator sk-toggleable\"><input class=\"sk-toggleable__control sk-hidden--visually\" id=\"sk-estimator-id-16\" type=\"checkbox\" ><label for=\"sk-estimator-id-16\" class=\"sk-toggleable__label sk-toggleable__label-arrow\">TargetEncoder</label><div class=\"sk-toggleable__content\"><pre>&lt;__main__.TargetEncoder object at 0x7f659c5b3940&gt;</pre></div></div></div><div class=\"sk-item\"><div class=\"sk-estimator sk-toggleable\"><input class=\"sk-toggleable__control sk-hidden--visually\" id=\"sk-estimator-id-17\" type=\"checkbox\" ><label for=\"sk-estimator-id-17\" class=\"sk-toggleable__label sk-toggleable__label-arrow\">StandardScaler</label><div class=\"sk-toggleable__content\"><pre>StandardScaler()</pre></div></div></div><div class=\"sk-item\"><div class=\"sk-estimator sk-toggleable\"><input class=\"sk-toggleable__control sk-hidden--visually\" id=\"sk-estimator-id-18\" type=\"checkbox\" ><label for=\"sk-estimator-id-18\" class=\"sk-toggleable__label sk-toggleable__label-arrow\">DecisionTreeClassifier</label><div class=\"sk-toggleable__content\"><pre>DecisionTreeClassifier()</pre></div></div></div></div></div></div></div></div></div></div></div></div>"
      ],
      "text/plain": [
       "GridSearchCV(cv=KFold(n_splits=5, random_state=403, shuffle=True),\n",
       "             estimator=Pipeline(steps=[('fill_forward',\n",
       "                                        <__main__.FillingForward object at 0x7f659c5b3460>),\n",
       "                                       ('fill_0',\n",
       "                                        <__main__.FillingZero object at 0x7f659c5b3cd0>),\n",
       "                                       ('fill_mode',\n",
       "                                        <__main__.FillingMode object at 0x7f659c5b31f0>),\n",
       "                                       ('fill_avg',\n",
       "                                        <__main__.FillingAverageWithoutExtreme object at 0x7f659c5b3fa0>),\n",
       "                                       ('encoding',\n",
       "                                        <__main__.TargetEncoder object at 0x7f659c5b3940>),\n",
       "                                       ('standardization', StandardScaler()),\n",
       "                                       ('classifier',\n",
       "                                        DecisionTreeClassifier())]),\n",
       "             param_grid={'classifier__max_depth': (2, 20)})"
      ]
     },
     "execution_count": 53,
     "metadata": {},
     "output_type": "execute_result"
    }
   ],
   "source": [
    "from sklearn.model_selection import KFold, GridSearchCV\n",
    "from sklearn.tree import DecisionTreeClassifier\n",
    "\n",
    "k_fold = KFold(n_splits=5, shuffle=True, random_state=403)\n",
    "\n",
    "parameters = {'classifier__max_depth': (2, 20)}\n",
    "x_transformer = Pipeline([\n",
    "    ('fill_forward', FillingForward(cols=['traffic'])),\n",
    "    ('fill_0', FillingZero(cols=['policy1', 'policy2', 'policy3', 'policy4', 'policy5', 'policy6', \n",
    "                                 'policy_ot', 'fee_med', 'fee_ent', 'fee_fin', 'sq_pool', \n",
    "                                 'sq_forest', 'sq_fruit', 'sq_other'])),\n",
    "    ('fill_mode', FillingMode(cols=['industry', 'water', 'dwelling', 'power'])),\n",
    "    ('fill_avg', FillingAverageWithoutExtreme(cols=['fee_edu', 'fee_food', 'members', \n",
    "                                                    'sq_field', 'sq_house', 'income'])),\n",
    "    ('encoding', TargetEncoder(cols=['community', 'industry'])),\n",
    "    ('standardization', StandardScaler()),\n",
    "    ('classifier', DecisionTreeClassifier())\n",
    "])\n",
    "mdl = GridSearchCV(x_transformer, parameters, cv=k_fold)\n",
    "mdl.fit(x_train, y_train)"
   ]
  },
  {
   "cell_type": "code",
   "execution_count": null,
   "id": "36538a3f-b923-411b-af9d-d9e9665f781f",
   "metadata": {},
   "outputs": [
    {
     "data": {
      "text/plain": [
       "0.6895424836601307"
      ]
     },
     "execution_count": 58,
     "metadata": {},
     "output_type": "execute_result"
    }
   ],
   "source": [
    "from sklearn.metrics import accuracy_score\n",
    "\n",
    "y_test_hat = mdl.predict(x_test)\n",
    "accuracy_score(y_test, y_test_hat)"
   ]
  },
  {
   "cell_type": "code",
   "execution_count": null,
   "id": "10df93c3-da56-4398-a0f6-88e49c90c898",
   "metadata": {},
   "outputs": [],
   "source": []
  }
 ],
 "metadata": {
  "kernelspec": {
   "display_name": "Python 3 (ipykernel)",
   "language": "python",
   "name": "python3"
  },
  "language_info": {
   "codemirror_mode": {
    "name": "ipython",
    "version": 3
   },
   "file_extension": ".py",
   "mimetype": "text/x-python",
   "name": "python",
   "nbconvert_exporter": "python",
   "pygments_lexer": "ipython3",
   "version": "3.9.7"
  }
 },
 "nbformat": 4,
 "nbformat_minor": 5
}
